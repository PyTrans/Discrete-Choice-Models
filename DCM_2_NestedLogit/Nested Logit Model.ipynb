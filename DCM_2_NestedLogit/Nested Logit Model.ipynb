{
 "cells": [
  {
   "cell_type": "markdown",
   "metadata": {},
   "source": [
    "# <center> Estimation of Nested Logit model "
   ]
  },
  {
   "cell_type": "markdown",
   "metadata": {},
   "source": [
    "\n",
    " <center> Daisik Danny Nam\n"
   ]
  },
  {
   "cell_type": "markdown",
   "metadata": {},
   "source": [
    "## 1. Brief Review of Nested Logit model"
   ]
  },
  {
   "cell_type": "markdown",
   "metadata": {},
   "source": [
    "In this part, we will estimate parameters for a Nested Logit model. When a choice is determined by the combination of mode and destination, each choice can not be independent from irrelevant altertives. Nested Logit model has a characteristic of shared unobserved attributes. For example, $(d, m^{'})$    and   $(d, m^{''})$ share both $V^{n}_{d}$  and $\\xi_{d}$"
   ]
  },
  {
   "cell_type": "markdown",
   "metadata": {},
   "source": [
    "$U^{n}_{dm} = V^{n}_{d}+V^{n}_{m}+V^{n}_{dm}+\\xi_{m}+\\xi_{d}+\\xi_{dm} \\: \\: \\: \\:\\: \\: \\: \\:  \\forall(d,m) \\in C_{n}$"
   ]
  },
  {
   "cell_type": "markdown",
   "metadata": {},
   "source": [
    "In Nested Logit model, the utility of each alternative can be defined as follows when there are have several alternatives. We assume that $\\xi_{m}=0$ & $Var(\\xi_{m})=0$ and all of unobserved utility can be explained by $\\xi_{d}+\\xi_{dm}$ thus,"
   ]
  },
  {
   "cell_type": "markdown",
   "metadata": {},
   "source": [
    "$U^{n}_{dm} = V^{n}_{d}+V^{n}_{m}+V^{n}_{dm}+\\xi_{d}+\\xi_{dm} \\: \\: \\: \\:\\: \\: \\: \\:  \\forall(d,m) \\in C_{n}$"
   ]
  },
  {
   "cell_type": "markdown",
   "metadata": {},
   "source": [
    "where d = Z1, Z2, Z3, Z4, m = C(car), B(Bus), and"
   ]
  },
  {
   "cell_type": "markdown",
   "metadata": {},
   "source": [
    "and where $\\xi_{dm}$ is assumed Gumbel $(0,u_{dm})$, i.e., $\\xi_{dm}$$(0,d_{dm})$ and $\\xi_{d}$ is assumed Gumbel $(0,u_{d})$, i.e., $\\xi_{d}$$(0,u_{d})$"
   ]
  },
  {
   "cell_type": "markdown",
   "metadata": {},
   "source": [
    "in which"
   ]
  },
  {
   "cell_type": "markdown",
   "metadata": {},
   "source": [
    "$ V^{n}_{d}$ = Deterministic component of the utility of destination $d$ $(Z_{1}, Z_2, Z_3, Z_4)$"
   ]
  },
  {
   "cell_type": "markdown",
   "metadata": {},
   "source": [
    "$ V^{n}_{m}$ = Deterministic component of the utility of mode $md$ (b,c)"
   ]
  },
  {
   "cell_type": "markdown",
   "metadata": {},
   "source": [
    "$ V^{n}_{dm}$ = Deterministic component of the utility common to combination ($d,$m)"
   ]
  },
  {
   "cell_type": "markdown",
   "metadata": {},
   "source": [
    "Assume a linear-in-parameters model with the following descriptors:"
   ]
  },
  {
   "cell_type": "markdown",
   "metadata": {},
   "source": [
    "$X_{d} = \\left [ shops_d \\right ],\\: X_{m} = \\left [    Access_m \\right], \\: X_{dm} = \\begin{bmatrix} TT_{md}\\\\ TC_{md} \\end{bmatrix}$"
   ]
  },
  {
   "cell_type": "markdown",
   "metadata": {},
   "source": [
    "Bus or Car access (Access) is a mode specific value. Travel time and travel cost are determined by both a destination and a mode. "
   ]
  },
  {
   "cell_type": "markdown",
   "metadata": {
    "collapsed": true
   },
   "source": [
    "To calculate the probability of choosing mode $m$ and destination $d$, Marginal choice probabilities and conditional probabilities should be processed because $\\xi$ consists of $\\xi_{d}+\\xi_{dm}$. In other words, we cannot assume that $\\xi_{d}+\\xi_{dm}$ has IID property for all d and m.\n"
   ]
  },
  {
   "cell_type": "markdown",
   "metadata": {},
   "source": [
    "$$Pr^{n}(d|D_n) = Pr^n \\begin{pmatrix}\n",
    "\\underset{\\forall m \\in M_{d}}{Max} U_{dm} \\geq \\underset{\\forall m \\in M_{d'}}{Max} U_{d'm} \\:  ; \\forall d^{'} \\:  \\in \\:  D_{n}, \\: d^{'} \\neq d\n",
    "\\end{pmatrix}$$"
   ]
  },
  {
   "cell_type": "markdown",
   "metadata": {},
   "source": [
    "$$Pr^{n}(d|D_n) = Pr^n \\begin{pmatrix}\n",
    "V_{d}^{n}+\\xi_{d}+\\underset{\\forall m \\in M_{d}} {Max} (V_{m}+V_{dm}+\\xi_{dm}) \\geq V_{d'}^{n}+\\xi_{d'}+\\underset{\\forall m \\in M_{d'}}{Max} (V_{m}+V_{d'm}+\\xi_{d'm}) ; \\forall d^{'} in D_{n}, d^{'} \\neq d\n",
    "\\end{pmatrix}$$"
   ]
  },
  {
   "cell_type": "markdown",
   "metadata": {},
   "source": [
    "From the Gumbel distribution property $\\underset{\\forall m \\in M_{d}} {Max} (V_{m}+V_{dm}+\\xi_{dm})$ can be represented with $\\tilde{V}^{n}_{d}+\\xi^{*}_{d}$, where $\\xi^{*}_{d}$ is Gumbel $(0, u_{dm})$ "
   ]
  },
  {
   "cell_type": "markdown",
   "metadata": {},
   "source": [
    "$$Pr(d|D) = Pr \\begin{pmatrix}\n",
    "V_{d}^{n}+\\tilde{V}^{n}_{d}+\\xi_{d}+ \\xi^{*}_{d}\\geq V_{d'}^{m}+\\tilde{V}^{n}_{d'}+\\xi_{d'}+ \\xi^{*}_{d'}) ; \\forall d^{'} in D_{n}, d^{'} \\neq d\n",
    "\\end{pmatrix}$$"
   ]
  },
  {
   "cell_type": "markdown",
   "metadata": {},
   "source": [
    "When we regard $\\xi_{d}+ \\xi^{*}_{d}$ as $\\tilde{\\xi_{d}}$"
   ]
  },
  {
   "cell_type": "markdown",
   "metadata": {},
   "source": [
    "$$Pr(d|D) = Pr \\begin{pmatrix}\n",
    "V_{d}^{m}+\\tilde{V}^{n}_{d}+\\tilde{\\xi_{d}}\\geq V_{d'}^{m}+\\tilde{V}^{n}_{d'}+\\tilde{\\xi_{d}}) ; \\forall d^{'} in D_{n}, d^{'} \\neq d\n",
    "\\end{pmatrix}$$"
   ]
  },
  {
   "cell_type": "markdown",
   "metadata": {},
   "source": [
    "where $\\tilde{\\xi_{d}}$ is Gumbel $(0, u_{dm}/\\alpha) = \\tilde{\\xi_{d}}(0,u_d)$"
   ]
  },
  {
   "cell_type": "markdown",
   "metadata": {},
   "source": [
    "So Marginal Choice Probabilities can be calculated as follows:"
   ]
  },
  {
   "cell_type": "markdown",
   "metadata": {},
   "source": [
    "$$Pr^{n}(d|D_n) = \\frac{e^{u_{d}(V_{d}+\\tilde{V}^{n}_{d})}}{ \\sum_{\\forall {d}'} e^{u_{d'}(V_{d'}+\\tilde{V}^{n}_{d'})}}$$"
   ]
  },
  {
   "cell_type": "markdown",
   "metadata": {},
   "source": [
    "where $\\tilde{V}^{n}_{d} = \\frac{1}{u_{dm}}ln \\sum_{\\forall {m} \\in M_{d}'} e^{u_{d}(V_{d}+\\tilde{V}^{n}_{d})}$"
   ]
  },
  {
   "cell_type": "markdown",
   "metadata": {},
   "source": [
    "Conditional choice probabilites can be derived as follows:"
   ]
  },
  {
   "cell_type": "markdown",
   "metadata": {},
   "source": [
    "$$Pr^{n}(m|d) = Pr(U_{dm}^{n} \\geq U_{dm''}^{n}; \\forall m' \\in M_{d}, m'\\neq m )$$"
   ]
  },
  {
   "cell_type": "markdown",
   "metadata": {},
   "source": [
    "$$Pr^{n}(m|d) = Pr(V^{n}_{d}+V^{n}_{m}+V^{n}_{dm}+\\xi_{d}+\\xi_{dm} \\geq V^{n}_{d}+V^{n}_{m'}+V^{n}_{dm'}+\\xi_{d}+\\xi_{dm'})$$"
   ]
  },
  {
   "cell_type": "markdown",
   "metadata": {},
   "source": [
    "$$Pr^{n}(m|d) = Pr(V^{n}_{m}+V^{n}_{dm}+\\xi_{dm} \\geq V^{n}_{m'}+V^{n}_{dm'}+\\xi_{dm'})$$"
   ]
  },
  {
   "cell_type": "markdown",
   "metadata": {},
   "source": [
    "where $\\xi_{dm}$ is assumed Gumbel $(0,u_{dm})$, i.e., $\\xi_{dm}$\n",
    "Then"
   ]
  },
  {
   "cell_type": "markdown",
   "metadata": {},
   "source": [
    "$$Pr^{n}(m|d) = \\frac{e^{u_{dm}(V_{m}+V_{dm})}}{ \\sum_{\\forall {d}'} e^{u_{dm'}(V_{m'}+V_{dm'})}}$$"
   ]
  },
  {
   "cell_type": "markdown",
   "metadata": {},
   "source": [
    "From the Bayes Theorem, the probability of choosing mode m and destination d is calculated by following equation. In here, $\\xi_{dm}$ is assumed a IID Gunmbel distribution with $(0 ,u_{dm})$"
   ]
  },
  {
   "cell_type": "markdown",
   "metadata": {},
   "source": [
    "$$Pr^{n}(d,m | C_{n}) = Pr^{n}(d|D) Pr^{n}(m|d)$$"
   ]
  },
  {
   "cell_type": "markdown",
   "metadata": {},
   "source": [
    "Note that Error term at any level does not involve / affect aspect of lower levels. "
   ]
  },
  {
   "cell_type": "markdown",
   "metadata": {},
   "source": [
    "# 2. Problem"
   ]
  },
  {
   "cell_type": "markdown",
   "metadata": {},
   "source": [
    "For analysis purposes, an urban region has been divided into four zones."
   ]
  },
  {
   "cell_type": "markdown",
   "metadata": {},
   "source": [
    "In order to gage possible public response to plans that call for increased retail development in each of the four zones together with major improvements both to public transit and roadways that service the region, the Metropolitan Planning Organization (MPO) commissioned a travel survey of 100 randomly-selected individuals relative to their most recent shopping trip."
   ]
  },
  {
   "cell_type": "markdown",
   "metadata": {},
   "source": [
    "Using the data contained in below and the MNL Maximum Likelihood estimator, estimate the following nested logit model\n",
    "of the combined choice of mode and destination for shopping:"
   ]
  },
  {
   "cell_type": "markdown",
   "metadata": {},
   "source": [
    "$Pr^{n}(d,m \\mid C_{n})$ = Probability of selecting mode-destination combination $(d,m)$"
   ]
  },
  {
   "cell_type": "markdown",
   "metadata": {},
   "source": [
    "Provide an analysis of the strengths/weaknesses of your estimated model through such measures\n",
    "as pseudo $\\rho^{2}$ , consistency with actual observations, etc."
   ]
  },
  {
   "cell_type": "markdown",
   "metadata": {},
   "source": [
    "# 3. Codes"
   ]
  },
  {
   "cell_type": "markdown",
   "metadata": {},
   "source": [
    "## 3.1. Dependencies"
   ]
  },
  {
   "cell_type": "code",
   "execution_count": 32,
   "metadata": {},
   "outputs": [
    {
     "name": "stdout",
     "output_type": "stream",
     "text": [
      "Populating the interactive namespace from numpy and matplotlib\n"
     ]
    },
    {
     "name": "stderr",
     "output_type": "stream",
     "text": [
      "C:\\Program Files\\Anaconda2\\lib\\site-packages\\IPython\\core\\magics\\pylab.py:161: UserWarning: pylab import has clobbered these variables: ['random']\n",
      "`%matplotlib` prevents importing * from pylab and numpy\n",
      "  \"\\n`%matplotlib` prevents importing * from pylab and numpy\"\n"
     ]
    }
   ],
   "source": [
    "%pylab inline\n",
    "import random\n",
    "import numpy as np\n",
    "import scipy\n",
    "import pandas as pd"
   ]
  },
  {
   "cell_type": "markdown",
   "metadata": {},
   "source": [
    "## 3.2. Data Overview "
   ]
  },
  {
   "cell_type": "markdown",
   "metadata": {},
   "source": [
    "   The basic statistics of given data is indicated as below. Total number of sample is 100 and each individual has two mode choices and four zone choices. But they did not select all possible modes and zone combinations. The choice-set can be defined as Figure 2. There are five choices. Among them, the number of trips to Zone 1 is 52 and each mode to Zone 1 has same frequencies with 26. Sample individuals did not visit to Zone 2 and trips to Zone 3 were prefered by only 3 people and all of them selected a bus as their mode. Zone 4 was second large preferred destination.  "
   ]
  },
  {
   "cell_type": "code",
   "execution_count": 33,
   "metadata": {},
   "outputs": [
    {
     "data": {
      "text/html": [
       "<div>\n",
       "<style scoped>\n",
       "    .dataframe tbody tr th:only-of-type {\n",
       "        vertical-align: middle;\n",
       "    }\n",
       "\n",
       "    .dataframe tbody tr th {\n",
       "        vertical-align: top;\n",
       "    }\n",
       "\n",
       "    .dataframe thead th {\n",
       "        text-align: right;\n",
       "    }\n",
       "</style>\n",
       "<table border=\"1\" class=\"dataframe\">\n",
       "  <thead>\n",
       "    <tr style=\"text-align: right;\">\n",
       "      <th></th>\n",
       "      <th>Per</th>\n",
       "      <th>TT Bus Z1</th>\n",
       "      <th>TT Bus Z2</th>\n",
       "      <th>TT Bus Z3</th>\n",
       "      <th>TT Bus Z4</th>\n",
       "      <th>TT Car Z1</th>\n",
       "      <th>TT Car Z2</th>\n",
       "      <th>TT Car Z3</th>\n",
       "      <th>TT Car Z4</th>\n",
       "      <th>TC Bus Z1</th>\n",
       "      <th>...</th>\n",
       "      <th>TC Car Z1</th>\n",
       "      <th>TC Car Z2</th>\n",
       "      <th>TC Car Z3</th>\n",
       "      <th>TC Car Z4</th>\n",
       "      <th>Bus Access</th>\n",
       "      <th>Car Access</th>\n",
       "      <th>#Shops Z1</th>\n",
       "      <th>#Shops Z2</th>\n",
       "      <th>#Shops Z3</th>\n",
       "      <th>#Shops Z4</th>\n",
       "    </tr>\n",
       "  </thead>\n",
       "  <tbody>\n",
       "    <tr>\n",
       "      <th>count</th>\n",
       "      <td>100.000000</td>\n",
       "      <td>100.000000</td>\n",
       "      <td>100.000000</td>\n",
       "      <td>100.000000</td>\n",
       "      <td>100.00000</td>\n",
       "      <td>100.000000</td>\n",
       "      <td>100.000000</td>\n",
       "      <td>100.000000</td>\n",
       "      <td>100.000000</td>\n",
       "      <td>100.000000</td>\n",
       "      <td>...</td>\n",
       "      <td>100.00000</td>\n",
       "      <td>100.000000</td>\n",
       "      <td>100.0000</td>\n",
       "      <td>100.00000</td>\n",
       "      <td>100.000000</td>\n",
       "      <td>100.000000</td>\n",
       "      <td>100.000000</td>\n",
       "      <td>100.00000</td>\n",
       "      <td>100.000000</td>\n",
       "      <td>100.000000</td>\n",
       "    </tr>\n",
       "    <tr>\n",
       "      <th>mean</th>\n",
       "      <td>50.500000</td>\n",
       "      <td>6.990000</td>\n",
       "      <td>16.920000</td>\n",
       "      <td>11.820000</td>\n",
       "      <td>6.66000</td>\n",
       "      <td>6.020000</td>\n",
       "      <td>15.880000</td>\n",
       "      <td>11.090000</td>\n",
       "      <td>5.970000</td>\n",
       "      <td>1.980000</td>\n",
       "      <td>...</td>\n",
       "      <td>5.89000</td>\n",
       "      <td>16.000000</td>\n",
       "      <td>11.0400</td>\n",
       "      <td>6.13000</td>\n",
       "      <td>5.270000</td>\n",
       "      <td>5.140000</td>\n",
       "      <td>4.360000</td>\n",
       "      <td>4.15000</td>\n",
       "      <td>4.420000</td>\n",
       "      <td>4.310000</td>\n",
       "    </tr>\n",
       "    <tr>\n",
       "      <th>std</th>\n",
       "      <td>29.011492</td>\n",
       "      <td>1.487286</td>\n",
       "      <td>1.481741</td>\n",
       "      <td>1.395375</td>\n",
       "      <td>1.37965</td>\n",
       "      <td>0.828532</td>\n",
       "      <td>0.819953</td>\n",
       "      <td>0.805223</td>\n",
       "      <td>0.744746</td>\n",
       "      <td>0.550115</td>\n",
       "      <td>...</td>\n",
       "      <td>0.87496</td>\n",
       "      <td>0.816497</td>\n",
       "      <td>0.8278</td>\n",
       "      <td>0.83672</td>\n",
       "      <td>2.838605</td>\n",
       "      <td>2.737764</td>\n",
       "      <td>2.830284</td>\n",
       "      <td>2.98946</td>\n",
       "      <td>2.811161</td>\n",
       "      <td>2.929112</td>\n",
       "    </tr>\n",
       "    <tr>\n",
       "      <th>min</th>\n",
       "      <td>1.000000</td>\n",
       "      <td>5.000000</td>\n",
       "      <td>15.000000</td>\n",
       "      <td>10.000000</td>\n",
       "      <td>5.00000</td>\n",
       "      <td>5.000000</td>\n",
       "      <td>15.000000</td>\n",
       "      <td>10.000000</td>\n",
       "      <td>5.000000</td>\n",
       "      <td>1.000000</td>\n",
       "      <td>...</td>\n",
       "      <td>5.00000</td>\n",
       "      <td>15.000000</td>\n",
       "      <td>10.0000</td>\n",
       "      <td>5.00000</td>\n",
       "      <td>1.000000</td>\n",
       "      <td>1.000000</td>\n",
       "      <td>0.000000</td>\n",
       "      <td>0.00000</td>\n",
       "      <td>0.000000</td>\n",
       "      <td>0.000000</td>\n",
       "    </tr>\n",
       "    <tr>\n",
       "      <th>25%</th>\n",
       "      <td>25.750000</td>\n",
       "      <td>6.000000</td>\n",
       "      <td>16.000000</td>\n",
       "      <td>10.000000</td>\n",
       "      <td>5.75000</td>\n",
       "      <td>5.000000</td>\n",
       "      <td>15.000000</td>\n",
       "      <td>10.000000</td>\n",
       "      <td>5.000000</td>\n",
       "      <td>2.000000</td>\n",
       "      <td>...</td>\n",
       "      <td>5.00000</td>\n",
       "      <td>15.000000</td>\n",
       "      <td>10.0000</td>\n",
       "      <td>5.00000</td>\n",
       "      <td>3.000000</td>\n",
       "      <td>3.000000</td>\n",
       "      <td>2.000000</td>\n",
       "      <td>1.00000</td>\n",
       "      <td>2.000000</td>\n",
       "      <td>2.000000</td>\n",
       "    </tr>\n",
       "    <tr>\n",
       "      <th>50%</th>\n",
       "      <td>50.500000</td>\n",
       "      <td>7.000000</td>\n",
       "      <td>17.000000</td>\n",
       "      <td>12.000000</td>\n",
       "      <td>6.00000</td>\n",
       "      <td>6.000000</td>\n",
       "      <td>16.000000</td>\n",
       "      <td>11.000000</td>\n",
       "      <td>6.000000</td>\n",
       "      <td>2.000000</td>\n",
       "      <td>...</td>\n",
       "      <td>6.00000</td>\n",
       "      <td>16.000000</td>\n",
       "      <td>11.0000</td>\n",
       "      <td>6.00000</td>\n",
       "      <td>5.000000</td>\n",
       "      <td>5.000000</td>\n",
       "      <td>4.500000</td>\n",
       "      <td>4.00000</td>\n",
       "      <td>5.000000</td>\n",
       "      <td>4.000000</td>\n",
       "    </tr>\n",
       "    <tr>\n",
       "      <th>75%</th>\n",
       "      <td>75.250000</td>\n",
       "      <td>8.000000</td>\n",
       "      <td>18.000000</td>\n",
       "      <td>13.000000</td>\n",
       "      <td>8.00000</td>\n",
       "      <td>7.000000</td>\n",
       "      <td>17.000000</td>\n",
       "      <td>12.000000</td>\n",
       "      <td>7.000000</td>\n",
       "      <td>2.000000</td>\n",
       "      <td>...</td>\n",
       "      <td>7.00000</td>\n",
       "      <td>17.000000</td>\n",
       "      <td>12.0000</td>\n",
       "      <td>7.00000</td>\n",
       "      <td>8.000000</td>\n",
       "      <td>7.000000</td>\n",
       "      <td>7.000000</td>\n",
       "      <td>7.00000</td>\n",
       "      <td>7.000000</td>\n",
       "      <td>7.000000</td>\n",
       "    </tr>\n",
       "    <tr>\n",
       "      <th>max</th>\n",
       "      <td>100.000000</td>\n",
       "      <td>9.000000</td>\n",
       "      <td>19.000000</td>\n",
       "      <td>14.000000</td>\n",
       "      <td>9.00000</td>\n",
       "      <td>7.000000</td>\n",
       "      <td>17.000000</td>\n",
       "      <td>12.000000</td>\n",
       "      <td>7.000000</td>\n",
       "      <td>3.000000</td>\n",
       "      <td>...</td>\n",
       "      <td>7.00000</td>\n",
       "      <td>17.000000</td>\n",
       "      <td>12.0000</td>\n",
       "      <td>7.00000</td>\n",
       "      <td>10.000000</td>\n",
       "      <td>10.000000</td>\n",
       "      <td>9.000000</td>\n",
       "      <td>9.00000</td>\n",
       "      <td>9.000000</td>\n",
       "      <td>9.000000</td>\n",
       "    </tr>\n",
       "  </tbody>\n",
       "</table>\n",
       "<p>8 rows × 23 columns</p>\n",
       "</div>"
      ],
      "text/plain": [
       "              Per   TT Bus Z1   TT Bus Z2   TT Bus Z3  TT Bus Z4   TT Car Z1  \\\n",
       "count  100.000000  100.000000  100.000000  100.000000  100.00000  100.000000   \n",
       "mean    50.500000    6.990000   16.920000   11.820000    6.66000    6.020000   \n",
       "std     29.011492    1.487286    1.481741    1.395375    1.37965    0.828532   \n",
       "min      1.000000    5.000000   15.000000   10.000000    5.00000    5.000000   \n",
       "25%     25.750000    6.000000   16.000000   10.000000    5.75000    5.000000   \n",
       "50%     50.500000    7.000000   17.000000   12.000000    6.00000    6.000000   \n",
       "75%     75.250000    8.000000   18.000000   13.000000    8.00000    7.000000   \n",
       "max    100.000000    9.000000   19.000000   14.000000    9.00000    7.000000   \n",
       "\n",
       "        TT Car Z2   TT Car Z3   TT Car Z4   TC Bus Z1     ...      TC Car Z1  \\\n",
       "count  100.000000  100.000000  100.000000  100.000000     ...      100.00000   \n",
       "mean    15.880000   11.090000    5.970000    1.980000     ...        5.89000   \n",
       "std      0.819953    0.805223    0.744746    0.550115     ...        0.87496   \n",
       "min     15.000000   10.000000    5.000000    1.000000     ...        5.00000   \n",
       "25%     15.000000   10.000000    5.000000    2.000000     ...        5.00000   \n",
       "50%     16.000000   11.000000    6.000000    2.000000     ...        6.00000   \n",
       "75%     17.000000   12.000000    7.000000    2.000000     ...        7.00000   \n",
       "max     17.000000   12.000000    7.000000    3.000000     ...        7.00000   \n",
       "\n",
       "        TC Car Z2  TC Car Z3  TC Car Z4  Bus Access  Car Access   #Shops Z1  \\\n",
       "count  100.000000   100.0000  100.00000  100.000000  100.000000  100.000000   \n",
       "mean    16.000000    11.0400    6.13000    5.270000    5.140000    4.360000   \n",
       "std      0.816497     0.8278    0.83672    2.838605    2.737764    2.830284   \n",
       "min     15.000000    10.0000    5.00000    1.000000    1.000000    0.000000   \n",
       "25%     15.000000    10.0000    5.00000    3.000000    3.000000    2.000000   \n",
       "50%     16.000000    11.0000    6.00000    5.000000    5.000000    4.500000   \n",
       "75%     17.000000    12.0000    7.00000    8.000000    7.000000    7.000000   \n",
       "max     17.000000    12.0000    7.00000   10.000000   10.000000    9.000000   \n",
       "\n",
       "       #Shops Z2   #Shops Z3   #Shops Z4  \n",
       "count  100.00000  100.000000  100.000000  \n",
       "mean     4.15000    4.420000    4.310000  \n",
       "std      2.98946    2.811161    2.929112  \n",
       "min      0.00000    0.000000    0.000000  \n",
       "25%      1.00000    2.000000    2.000000  \n",
       "50%      4.00000    5.000000    4.000000  \n",
       "75%      7.00000    7.000000    7.000000  \n",
       "max      9.00000    9.000000    9.000000  \n",
       "\n",
       "[8 rows x 23 columns]"
      ]
     },
     "execution_count": 33,
     "metadata": {},
     "output_type": "execute_result"
    }
   ],
   "source": [
    "dta = pd.read_csv(\"CEE220B_Survey_Data.csv\")\n",
    "dta.describe()"
   ]
  },
  {
   "cell_type": "code",
   "execution_count": 34,
   "metadata": {},
   "outputs": [],
   "source": [
    "level = [\"Destination\", \"Mode\"]\n",
    "variableset = {\"Mode\":\"Access\",\"Destination\":\"#Shops\",\"constant\":\"constant\",\"TT\":\"TT\",\"TC\":\"TC\"}\n",
    "inv_variableset = {v: k for k, v in variableset.items()}"
   ]
  },
  {
   "cell_type": "code",
   "execution_count": 35,
   "metadata": {},
   "outputs": [],
   "source": [
    "tempmatrix = pd.DataFrame()\n",
    "tempYset = pd.DataFrame()\n",
    "for i in level:\n",
    "    tempmatrix[i] = dta[i]\n",
    "    tempYset[i] = dta[i]"
   ]
  },
  {
   "cell_type": "code",
   "execution_count": 36,
   "metadata": {},
   "outputs": [],
   "source": [
    "tempYset[\"joint\"] = tempYset[\"Mode\"]+\"_\"+tempYset[\"Destination\"]\n",
    "dta[\"joint\"] = dta[\"Mode\"]+\"_\"+dta[\"Destination\"]"
   ]
  },
  {
   "cell_type": "code",
   "execution_count": 37,
   "metadata": {},
   "outputs": [],
   "source": [
    "choicesetkey = {}\n",
    "for i in tempYset[\"joint\"]:\n",
    "        if choicesetkey.has_key(i):\n",
    "            choicesetkey[i]+=1.0\n",
    "        else:\n",
    "            choicesetkey[i] = 1.0"
   ]
  },
  {
   "cell_type": "code",
   "execution_count": null,
   "metadata": {},
   "outputs": [],
   "source": []
  },
  {
   "cell_type": "code",
   "execution_count": 38,
   "metadata": {},
   "outputs": [
    {
     "name": "stdout",
     "output_type": "stream",
     "text": [
      "{'C_Z4': 20.0, 'B_Z4': 25.0, 'B_Z3': 3.0, 'C_Z1': 26.0, 'B_Z1': 26.0}\n"
     ]
    },
    {
     "data": {
      "text/plain": [
       "(0, 27.0)"
      ]
     },
     "execution_count": 38,
     "metadata": {},
     "output_type": "execute_result"
    },
    {
     "data": {
      "image/png": "[encoded data removed]",
      "text/plain": [
       "<matplotlib.figure.Figure at 0xa5795c0>"
      ]
     },
     "metadata": {},
     "output_type": "display_data"
    }
   ],
   "source": [
    "print choicesetkey\n",
    "X = np.arange(len(choicesetkey))\n",
    "plt.bar(X, choicesetkey.values(), align='center', width=0.5)\n",
    "plt.xticks(X, choicesetkey.keys())\n",
    "ymax = max(choicesetkey.values()) + 1\n",
    "plt.ylim(0, ymax)"
   ]
  },
  {
   "cell_type": "markdown",
   "metadata": {},
   "source": [
    "Figure 1. Choiceset and its frequency"
   ]
  },
  {
   "cell_type": "markdown",
   "metadata": {},
   "source": [
    "## 3.3. Estimation Code"
   ]
  },
  {
   "cell_type": "markdown",
   "metadata": {},
   "source": [
    "### 3.3.0 Data Preparation "
   ]
  },
  {
   "cell_type": "code",
   "execution_count": 39,
   "metadata": {},
   "outputs": [],
   "source": [
    "for c in choicesetkey:\n",
    "    tempYset[\"y_\"+c]=0.0\n",
    "    m, d = c.split(\"_\")\n",
    "    dta[\"constant \"+m+\" \"+d] = 1.0\n",
    "dta[\"constant \"+\"Car Z1\"] = 0.0\n",
    "for c in choicesetkey:\n",
    "    m, d = c.split(\"_\")\n",
    "    tempYset.loc[tempYset[\"joint\"]==c,\"y_\"+m+\"_\"+d]=1"
   ]
  },
  {
   "cell_type": "code",
   "execution_count": 40,
   "metadata": {},
   "outputs": [
    {
     "data": {
      "text/html": [
       "<div>\n",
       "<style scoped>\n",
       "    .dataframe tbody tr th:only-of-type {\n",
       "        vertical-align: middle;\n",
       "    }\n",
       "\n",
       "    .dataframe tbody tr th {\n",
       "        vertical-align: top;\n",
       "    }\n",
       "\n",
       "    .dataframe thead th {\n",
       "        text-align: right;\n",
       "    }\n",
       "</style>\n",
       "<table border=\"1\" class=\"dataframe\">\n",
       "  <thead>\n",
       "    <tr style=\"text-align: right;\">\n",
       "      <th></th>\n",
       "      <th>Destination</th>\n",
       "      <th>Mode</th>\n",
       "      <th>joint</th>\n",
       "      <th>y_C_Z4</th>\n",
       "      <th>y_B_Z4</th>\n",
       "      <th>y_B_Z3</th>\n",
       "      <th>y_C_Z1</th>\n",
       "      <th>y_B_Z1</th>\n",
       "    </tr>\n",
       "  </thead>\n",
       "  <tbody>\n",
       "    <tr>\n",
       "      <th>0</th>\n",
       "      <td>Z4</td>\n",
       "      <td>C</td>\n",
       "      <td>C_Z4</td>\n",
       "      <td>1.0</td>\n",
       "      <td>0.0</td>\n",
       "      <td>0.0</td>\n",
       "      <td>0.0</td>\n",
       "      <td>0.0</td>\n",
       "    </tr>\n",
       "    <tr>\n",
       "      <th>1</th>\n",
       "      <td>Z4</td>\n",
       "      <td>B</td>\n",
       "      <td>B_Z4</td>\n",
       "      <td>0.0</td>\n",
       "      <td>1.0</td>\n",
       "      <td>0.0</td>\n",
       "      <td>0.0</td>\n",
       "      <td>0.0</td>\n",
       "    </tr>\n",
       "    <tr>\n",
       "      <th>2</th>\n",
       "      <td>Z1</td>\n",
       "      <td>B</td>\n",
       "      <td>B_Z1</td>\n",
       "      <td>0.0</td>\n",
       "      <td>0.0</td>\n",
       "      <td>0.0</td>\n",
       "      <td>0.0</td>\n",
       "      <td>1.0</td>\n",
       "    </tr>\n",
       "    <tr>\n",
       "      <th>3</th>\n",
       "      <td>Z1</td>\n",
       "      <td>C</td>\n",
       "      <td>C_Z1</td>\n",
       "      <td>0.0</td>\n",
       "      <td>0.0</td>\n",
       "      <td>0.0</td>\n",
       "      <td>1.0</td>\n",
       "      <td>0.0</td>\n",
       "    </tr>\n",
       "    <tr>\n",
       "      <th>4</th>\n",
       "      <td>Z4</td>\n",
       "      <td>B</td>\n",
       "      <td>B_Z4</td>\n",
       "      <td>0.0</td>\n",
       "      <td>1.0</td>\n",
       "      <td>0.0</td>\n",
       "      <td>0.0</td>\n",
       "      <td>0.0</td>\n",
       "    </tr>\n",
       "    <tr>\n",
       "      <th>5</th>\n",
       "      <td>Z1</td>\n",
       "      <td>B</td>\n",
       "      <td>B_Z1</td>\n",
       "      <td>0.0</td>\n",
       "      <td>0.0</td>\n",
       "      <td>0.0</td>\n",
       "      <td>0.0</td>\n",
       "      <td>1.0</td>\n",
       "    </tr>\n",
       "    <tr>\n",
       "      <th>6</th>\n",
       "      <td>Z4</td>\n",
       "      <td>B</td>\n",
       "      <td>B_Z4</td>\n",
       "      <td>0.0</td>\n",
       "      <td>1.0</td>\n",
       "      <td>0.0</td>\n",
       "      <td>0.0</td>\n",
       "      <td>0.0</td>\n",
       "    </tr>\n",
       "    <tr>\n",
       "      <th>7</th>\n",
       "      <td>Z4</td>\n",
       "      <td>C</td>\n",
       "      <td>C_Z4</td>\n",
       "      <td>1.0</td>\n",
       "      <td>0.0</td>\n",
       "      <td>0.0</td>\n",
       "      <td>0.0</td>\n",
       "      <td>0.0</td>\n",
       "    </tr>\n",
       "    <tr>\n",
       "      <th>8</th>\n",
       "      <td>Z4</td>\n",
       "      <td>C</td>\n",
       "      <td>C_Z4</td>\n",
       "      <td>1.0</td>\n",
       "      <td>0.0</td>\n",
       "      <td>0.0</td>\n",
       "      <td>0.0</td>\n",
       "      <td>0.0</td>\n",
       "    </tr>\n",
       "    <tr>\n",
       "      <th>9</th>\n",
       "      <td>Z4</td>\n",
       "      <td>B</td>\n",
       "      <td>B_Z4</td>\n",
       "      <td>0.0</td>\n",
       "      <td>1.0</td>\n",
       "      <td>0.0</td>\n",
       "      <td>0.0</td>\n",
       "      <td>0.0</td>\n",
       "    </tr>\n",
       "  </tbody>\n",
       "</table>\n",
       "</div>"
      ],
      "text/plain": [
       "  Destination Mode joint  y_C_Z4  y_B_Z4  y_B_Z3  y_C_Z1  y_B_Z1\n",
       "0          Z4    C  C_Z4     1.0     0.0     0.0     0.0     0.0\n",
       "1          Z4    B  B_Z4     0.0     1.0     0.0     0.0     0.0\n",
       "2          Z1    B  B_Z1     0.0     0.0     0.0     0.0     1.0\n",
       "3          Z1    C  C_Z1     0.0     0.0     0.0     1.0     0.0\n",
       "4          Z4    B  B_Z4     0.0     1.0     0.0     0.0     0.0\n",
       "5          Z1    B  B_Z1     0.0     0.0     0.0     0.0     1.0\n",
       "6          Z4    B  B_Z4     0.0     1.0     0.0     0.0     0.0\n",
       "7          Z4    C  C_Z4     1.0     0.0     0.0     0.0     0.0\n",
       "8          Z4    C  C_Z4     1.0     0.0     0.0     0.0     0.0\n",
       "9          Z4    B  B_Z4     0.0     1.0     0.0     0.0     0.0"
      ]
     },
     "execution_count": 40,
     "metadata": {},
     "output_type": "execute_result"
    }
   ],
   "source": [
    "tempYset[0:10]"
   ]
  },
  {
   "cell_type": "code",
   "execution_count": null,
   "metadata": {},
   "outputs": [],
   "source": []
  },
  {
   "cell_type": "markdown",
   "metadata": {},
   "source": [
    "### 3.3.1 Log likelihood functions"
   ]
  },
  {
   "cell_type": "markdown",
   "metadata": {},
   "source": [
    "To estimate unknown parameters $\\theta_{s}$, the Maximum likely hood estimation is applied. As discussed before, Nested logit model assumes that $\\xi_{dm}$ is assumed Gumbel $(0,u_{dm})$, i.e., $\\xi_{dm}$$(0,d_{dm})$ and $\\xi_{d}$ is assumed Gumbel $(0,u_{d})$, i.e., $\\xi_{d}$$(0,u_{d})$.  Likelihood function is set as follows:"
   ]
  },
  {
   "cell_type": "markdown",
   "metadata": {},
   "source": [
    "$$\\mathbf{L^{*}} = \\prod^{N}_{n=1}f(y^{n}\\lvert\\underset{\\sim}{x^{n}},\\underset{\\sim}{\\theta}) $$ "
   ]
  },
  {
   "cell_type": "markdown",
   "metadata": {},
   "source": [
    "here     $\\: \\: f(y^{n}\\lvert\\underset{\\sim}{x^{n}},\\underset{\\sim}{\\theta})\\: \\: \\: \\: $ is$\\: \\: \\: \\: \\prod_{\\forall d,m \\in C_{n}} $ $Pr(d,m | C_{n})^{y_{i}^{n}}$"
   ]
  },
  {
   "cell_type": "markdown",
   "metadata": {},
   "source": [
    "$$\\mathbf{L^{*}} = \\prod^{N}_{n=1} \\prod_{\\forall d,m \\in C_{n}} Pr(d,m | C_{n})^{y_{i}^{n}}$$"
   ]
  },
  {
   "cell_type": "markdown",
   "metadata": {},
   "source": [
    "$$\\mathcal{L} =ln \\mathbf{L^{*}} = ln \\prod^{N}_{n=1} \\prod_{\\forall d,m \\in C_{n}} Pr(d,m | C_{n})^{y_{i}^{n}}$$"
   ]
  },
  {
   "cell_type": "markdown",
   "metadata": {},
   "source": [
    "$$\\mathcal{L} =ln\\mathbf{L^{*}} = \\sum^{N}_{n=1} \\sum_{\\forall d,m \\in C_{n}}ln \\begin{pmatrix}  Pr^{n}(m|d)Pr^{n}(d|D_{n})\\end{pmatrix}^{y^{n}_{dm}}$$"
   ]
  },
  {
   "cell_type": "markdown",
   "metadata": {},
   "source": [
    "$$\\mathcal{L} =ln\\mathbf{L^{*}} = \\sum^{N}_{n=1} \\sum_{\\forall d,m \\in C_{n}}y^{n}_{dm}ln \\begin{pmatrix} Pr^{n}(d|D) Pr^{n}(m|d)\\end{pmatrix}$$"
   ]
  },
  {
   "cell_type": "markdown",
   "metadata": {},
   "source": [
    "$$\\mathcal{L} =ln\\mathbf{L^{*}} = \\sum^{N}_{n=1} \\sum_{\\forall d,m \\in C_{n}}y^{n}_{dm}ln \\begin{pmatrix} Pr^{n}(m|d) \\end{pmatrix} +\n",
    "\\sum^{N}_{n=1} \\sum_{\\forall d,m \\in C_{n}}y^{n}_{dm}ln \\begin{pmatrix} Pr^{n}(d|D_{n}) \\end{pmatrix}$$"
   ]
  },
  {
   "cell_type": "markdown",
   "metadata": {},
   "source": [
    "Above equation can be separated into two terms. Finally this function can be expressed as follows:"
   ]
  },
  {
   "cell_type": "markdown",
   "metadata": {},
   "source": [
    "$$\\mathcal{L} =ln\\mathbf{L^{*}} = \\sum^{N}_{n=1} \\sum_{\\forall d,m \\in C_{n}}y^{n}_{dm}ln \\begin{pmatrix} \\frac{e^{u_{dm}(V_{m}+V_{dm})}}{ \\sum_{\\forall {d}'} e^{u_{dm'}(V_{m'}+V_{dm'})}} \\end{pmatrix} +\n",
    "\\sum^{N}_{n=1} \\sum_{\\forall d,m \\in C_{n}}y^{n}_{dm}ln \\begin{pmatrix} \\frac{e^{u_{d}(V_{d}+\\tilde{V}^{n}_{d})}}{ \\sum_{\\forall {d}'} e^{u_{d'}(V_{d'}+\\tilde{V}^{n}_{d'})}}\\end{pmatrix}$$"
   ]
  },
  {
   "cell_type": "markdown",
   "metadata": {},
   "source": [
    "Objective of the Loglikelihood function is to maximize the likelihood, meaning both terms in the above equation are maximized with the parameters. We can easily infer that maximum value of both terms gurantees the maximized objective value. \n",
    "\n",
    "Note: $$ max \\mathcal{L} = max (Term1)+max (Term2)$$"
   ]
  },
  {
   "cell_type": "markdown",
   "metadata": {},
   "source": [
    "### Estimation Process"
   ]
  },
  {
   "cell_type": "markdown",
   "metadata": {},
   "source": [
    "#### Step 1 "
   ]
  },
  {
   "cell_type": "markdown",
   "metadata": {},
   "source": [
    "From the first term of log likelihood function, we can estimate $u_m \\beta_{m}$ and $u_m\\beta_{dm}$ using conditional choice model $Pr^{n}(m|d)$. We assume $u_{m} = 1$ The Estimation process is same with multinomial logit model estimation which uses Newton Raphson algorithm. "
   ]
  },
  {
   "cell_type": "markdown",
   "metadata": {},
   "source": [
    "The deterministic components of the utility of mode are formulated as follows:"
   ]
  },
  {
   "cell_type": "markdown",
   "metadata": {},
   "source": [
    "$V^{n}_{car} = \\theta_{1} x_{Access, bus}$"
   ]
  },
  {
   "cell_type": "markdown",
   "metadata": {},
   "source": [
    "$V^{n}_{bus} = \\theta_{0}+\\theta_{1} x_{Access, bus}$"
   ]
  },
  {
   "cell_type": "markdown",
   "metadata": {},
   "source": [
    "The deterministic components of the utility common to combination (d,m) are formulate as follows:"
   ]
  },
  {
   "cell_type": "markdown",
   "metadata": {},
   "source": [
    "$V^{n}_{dm} = \\theta_{time}x^{n}_{time} + \\theta_{cost}x^{n_{cost}}$"
   ]
  },
  {
   "cell_type": "code",
   "execution_count": 41,
   "metadata": {},
   "outputs": [],
   "source": [
    "def calUtilityforDestination(theta_access, theta_time, theta_cost) :\n",
    "    UtilityMatrix = pd.DataFrame()\n",
    "\n",
    "    UtilityMatrix[\"Um_Car\"] = theta_access[\"mode\"]*dta[\"Car Access\"]\n",
    "    UtilityMatrix[\"Um_Bus\"] = theta_access[\"const\"]+theta_access[\"mode\"]*dta[\"Bus Access\"]\n",
    "    \n",
    "    UtilityMatrix[\"Udm_Z1C\"] = theta_time*dta[\"TT Car Z1\"] + theta_cost*dta[\"TC Car Z1\"]\n",
    "    UtilityMatrix[\"Udm_Z1B\"] = theta_time*dta[\"TT Bus Z1\"] + theta_cost*dta[\"TC Bus Z1\"]\n",
    "    UtilityMatrix[\"Udm_Z3B\"] = theta_time*dta[\"TT Bus Z3\"] + theta_cost*dta[\"TC Bus Z3\"]\n",
    "    UtilityMatrix[\"Udm_Z4C\"] = theta_time*dta[\"TT Car Z4\"] + theta_cost*dta[\"TC Car Z4\"]\n",
    "    UtilityMatrix[\"Udm_Z4B\"] = theta_time*dta[\"TT Bus Z4\"] + theta_cost*dta[\"TC Bus Z4\"]\n",
    "    \n",
    "    return UtilityMatrix"
   ]
  },
  {
   "cell_type": "code",
   "execution_count": null,
   "metadata": {},
   "outputs": [],
   "source": []
  },
  {
   "cell_type": "code",
   "execution_count": 42,
   "metadata": {},
   "outputs": [],
   "source": [
    "def calConditionalProb(utilitymatrix, u_m):\n",
    "    ConditionalProbMatrix = pd.DataFrame()\n",
    "    denom = np.exp(u_m*(utilitymatrix[\"Um_Car\"]+utilitymatrix[\"Udm_Z1C\"]))+np.exp(u_m*(utilitymatrix[\"Um_Bus\"]+utilitymatrix[\"Udm_Z1B\"]))\n",
    "    ConditionalProbMatrix[\"PR(car|Z1)\"] = np.exp(u_m*(utilitymatrix[\"Um_Car\"]+utilitymatrix[\"Udm_Z1C\"]))/denom\n",
    "    ConditionalProbMatrix[\"PR(bus|Z1)\"] = np.exp(u_m*(utilitymatrix[\"Um_Bus\"]+utilitymatrix[\"Udm_Z1B\"]))/denom\n",
    "    \n",
    "    ConditionalProbMatrix[\"PR(bus|Z3)\"] = 1.0\n",
    "    \n",
    "    denom = np.exp(u_m*(utilitymatrix[\"Um_Car\"]+utilitymatrix[\"Udm_Z4C\"]))+np.exp(u_m*(utilitymatrix[\"Um_Bus\"]+utilitymatrix[\"Udm_Z4B\"]))\n",
    "    ConditionalProbMatrix[\"PR(car|Z4)\"] = np.exp(u_m*(utilitymatrix[\"Um_Car\"]+utilitymatrix[\"Udm_Z4C\"]))/denom\n",
    "    ConditionalProbMatrix[\"PR(bus|Z4)\"] = np.exp(u_m*(utilitymatrix[\"Um_Bus\"]+utilitymatrix[\"Udm_Z4B\"]))/denom\n",
    "    return ConditionalProbMatrix"
   ]
  },
  {
   "cell_type": "markdown",
   "metadata": {},
   "source": [
    "To find    $\\,\\,\\,Max \\mathcal{L} \\,\\,$ the Log likeli hood function is differentiated by each unknown parameters.  "
   ]
  },
  {
   "cell_type": "markdown",
   "metadata": {},
   "source": [
    "$$\\,\\,\\frac{\\partial \\mathcal{L} }{ \\partial \\theta_{k}} = 0; k = 0,1,2,\\cdots,p$$"
   ]
  },
  {
   "cell_type": "markdown",
   "metadata": {},
   "source": [
    "Because we have a constant for an utility function, there are p+1 equations for the p+1 unknowns"
   ]
  },
  {
   "cell_type": "markdown",
   "metadata": {},
   "source": [
    "$$\\, F_{k} \\,=\\frac{\\partial \\mathcal{L} }{ \\partial \\theta_{k}} =\\sum^{N}_{n=1} \\sum_{\\forall d,m \\in C_{n}} y^{n}_{dm} \\begin{pmatrix}x_{k,dm} - \\sum_{\\forall{d}'{m}'\\in C_{n}} x_{k.d'm'} Pr(d',m' \\lvert C_{n})\n",
    "\\end{pmatrix}$$"
   ]
  },
  {
   "cell_type": "code",
   "execution_count": 43,
   "metadata": {},
   "outputs": [],
   "source": [
    "def calTerm1F(conditionalprobmatrix,tempYset,dta):\n",
    "    Term1FMatrix = pd.DataFrame()\n",
    "    pm= conditionalprobmatrix\n",
    "    \n",
    "    Term1FMatrix[\"F0\"] = (tempYset[\"y_C_Z1\"]*(0.0-(0.0*pm[\"PR(car|Z1)\"]+1.0*pm[\"PR(bus|Z1)\"])) +\n",
    "                          tempYset[\"y_B_Z1\"]*(1.0-(0.0*pm[\"PR(car|Z1)\"]+1.0*pm[\"PR(bus|Z1)\"])) +\n",
    "                          tempYset[\"y_B_Z3\"]*(1.0-(1.0*pm[\"PR(bus|Z3)\"])) +\n",
    "                          tempYset[\"y_C_Z4\"]*(0.0-(0.0*pm[\"PR(car|Z4)\"]+1.0*pm[\"PR(bus|Z4)\"])) +\n",
    "                          tempYset[\"y_B_Z4\"]*(1.0-(0.0*pm[\"PR(car|Z4)\"]+1.0*pm[\"PR(bus|Z4)\"])) \n",
    "                          \n",
    "                    )\n",
    "    \n",
    "    Term1FMatrix[\"Fm\"] = (tempYset[\"y_C_Z1\"]*(dta[\"Car Access\"]-(dta[\"Car Access\"]*pm[\"PR(car|Z1)\"]+dta[\"Bus Access\"]*pm[\"PR(bus|Z1)\"])) +\n",
    "                          tempYset[\"y_B_Z1\"]*(dta[\"Bus Access\"]-(dta[\"Car Access\"]*pm[\"PR(car|Z1)\"]+dta[\"Bus Access\"]*pm[\"PR(bus|Z1)\"])) +\n",
    "                          tempYset[\"y_B_Z3\"]*(dta[\"Bus Access\"]-(dta[\"Bus Access\"]*pm[\"PR(bus|Z3)\"])) +\n",
    "                          tempYset[\"y_C_Z4\"]*(dta[\"Car Access\"]-(dta[\"Car Access\"]*pm[\"PR(car|Z4)\"]+dta[\"Bus Access\"]*pm[\"PR(bus|Z4)\"])) +\n",
    "                          tempYset[\"y_B_Z4\"]*(dta[\"Bus Access\"]-(dta[\"Car Access\"]*pm[\"PR(car|Z4)\"]+dta[\"Bus Access\"]*pm[\"PR(bus|Z4)\"])) \n",
    "                          \n",
    "                    )\n",
    "    Term1FMatrix[\"Ftt\"] = (tempYset[\"y_C_Z1\"]*(dta[\"TT Car Z1\"]-(dta[\"TT Car Z1\"]*pm[\"PR(car|Z1)\"]+dta[\"TT Bus Z1\"]*pm[\"PR(bus|Z1)\"])) +\n",
    "                          tempYset[\"y_B_Z1\"]*(dta[\"TT Bus Z1\"]-(dta[\"TT Car Z1\"]*pm[\"PR(car|Z1)\"]+dta[\"TT Bus Z1\"]*pm[\"PR(bus|Z1)\"])) +\n",
    "                          tempYset[\"y_B_Z3\"]*(dta[\"TT Bus Z3\"]-(dta[\"TT Bus Z3\"]*pm[\"PR(bus|Z3)\"])) +\n",
    "                          tempYset[\"y_C_Z4\"]*(dta[\"TT Car Z4\"]-(dta[\"TT Car Z4\"]*pm[\"PR(car|Z4)\"]+dta[\"TT Bus Z4\"]*pm[\"PR(bus|Z4)\"])) +\n",
    "                          tempYset[\"y_B_Z4\"]*(dta[\"TT Bus Z4\"]-(dta[\"TT Car Z4\"]*pm[\"PR(car|Z4)\"]+dta[\"TT Bus Z4\"]*pm[\"PR(bus|Z4)\"])) \n",
    "                    )\n",
    "    Term1FMatrix[\"Ftc\"] = (tempYset[\"y_C_Z1\"]*(dta[\"TC Car Z1\"]-(dta[\"TC Car Z1\"]*pm[\"PR(car|Z1)\"]+dta[\"TC Bus Z1\"]*pm[\"PR(bus|Z1)\"])) +\n",
    "                          tempYset[\"y_B_Z1\"]*(dta[\"TC Bus Z1\"]-(dta[\"TC Car Z1\"]*pm[\"PR(car|Z1)\"]+dta[\"TC Bus Z1\"]*pm[\"PR(bus|Z1)\"])) +\n",
    "                          tempYset[\"y_B_Z3\"]*(dta[\"TC Bus Z3\"]-(dta[\"TC Bus Z3\"]*pm[\"PR(bus|Z3)\"])) +\n",
    "                          tempYset[\"y_C_Z4\"]*(dta[\"TC Car Z4\"]-(dta[\"TC Car Z4\"]*pm[\"PR(car|Z4)\"]+dta[\"TC Bus Z4\"]*pm[\"PR(bus|Z4)\"])) +\n",
    "                          tempYset[\"y_B_Z4\"]*(dta[\"TC Bus Z4\"]-(dta[\"TC Car Z4\"]*pm[\"PR(car|Z4)\"]+dta[\"TC Bus Z4\"]*pm[\"PR(bus|Z4)\"])) \n",
    "                    )\n",
    "    return Term1FMatrix"
   ]
  },
  {
   "cell_type": "code",
   "execution_count": 44,
   "metadata": {},
   "outputs": [],
   "source": [
    "def Term1FMat(Term1F):\n",
    "    f = [sum(Term1F[\"F0\"]), sum(Term1F[\"Fm\"]),sum(Term1F[\"Ftt\"]),sum(Term1F[\"Ftc\"])]\n",
    "    return f"
   ]
  },
  {
   "cell_type": "markdown",
   "metadata": {},
   "source": [
    "As can be seen in the equation for $F_{k}$, it is hard to get a optimal solution for this system. But hueristic method helps to solve this problem. We will apply the Newton-Raphson algorithm which is one of the popular heuristics. This algorithm estimates an optimal solution via recursive Taylor series expansion of the given equations as shown in below equation:"
   ]
  },
  {
   "cell_type": "markdown",
   "metadata": {},
   "source": [
    "$$F(\\theta) = F(\\theta)|_{\\theta} + \\bigtriangledown F_{\\theta}|(\\theta-\\theta_{m})+\\cdots = 0$$"
   ]
  },
  {
   "cell_type": "markdown",
   "metadata": {},
   "source": [
    "#### Calculate ▽Fθ"
   ]
  },
  {
   "cell_type": "markdown",
   "metadata": {},
   "source": [
    "To calculate above equation, we need to calculate differential value of $F_{\\theta}$. There are two ways of calculating differential. In here, we will mathematically differentiate the $F_{\\theta}$ as follows:"
   ]
  },
  {
   "cell_type": "markdown",
   "metadata": {},
   "source": [
    "$$\\frac{\\partial F_{l}(\\theta) }{ \\partial \\theta_{k}} = \\sum^{N}_{n=1} \\sum_{\\forall d,m \\in C_{n}} y^{n}_{dm}Pr(m|d) \\begin{pmatrix}x_{k,dm} - \\sum_{\\forall{d}'{m}'\\in C_{n}} x_{k,d'm'} Pr(m'|d')\n",
    "\\end{pmatrix}$$"
   ]
  },
  {
   "cell_type": "code",
   "execution_count": 45,
   "metadata": {},
   "outputs": [],
   "source": [
    "def calTerm1dF(conditionalprobmatrix,dta):\n",
    "    Term1dFMatrix = pd.DataFrame()\n",
    "    pm= conditionalprobmatrix\n",
    "    \n",
    "    Term1dFMatrix[\"dF0d0\"] = -1.0*(0.0*pm[\"PR(car|Z1)\"]*(0.0-(0.0*pm[\"PR(car|Z1)\"]+1.0*pm[\"PR(bus|Z1)\"]))+\n",
    "                                 1.0*pm[\"PR(bus|Z1)\"]*(1.0-(0.0*pm[\"PR(car|Z1)\"]+1.0*pm[\"PR(bus|Z1)\"]))+\n",
    "                                 1.0*pm[\"PR(bus|Z3)\"]*(1.0-1.0**pm[\"PR(bus|Z3)\"])+\n",
    "                                 0.0*pm[\"PR(car|Z4)\"]*(0.0-(0.0*pm[\"PR(car|Z4)\"]+1.0*pm[\"PR(bus|Z4)\"]))+\n",
    "                                 1.0*pm[\"PR(bus|Z4)\"]*(1.0-(0.0*pm[\"PR(car|Z4)\"]+1.0*pm[\"PR(bus|Z4)\"]))                             \n",
    "                             )\n",
    "    Term1dFMatrix[\"dF0dm\"] = -1.0*(0.0*pm[\"PR(car|Z1)\"]*(dta[\"Car Access\"]-(dta[\"Car Access\"]*pm[\"PR(car|Z1)\"]+dta[\"Bus Access\"]*pm[\"PR(bus|Z1)\"]))+\n",
    "                             1.0*pm[\"PR(bus|Z1)\"]*(dta[\"Bus Access\"]-(dta[\"Car Access\"]*pm[\"PR(car|Z1)\"]+dta[\"Bus Access\"]*pm[\"PR(bus|Z1)\"]))+\n",
    "                             1.0*pm[\"PR(bus|Z3)\"]*(dta[\"Bus Access\"]-dta[\"Bus Access\"]*pm[\"PR(bus|Z3)\"])+\n",
    "                             0.0*pm[\"PR(car|Z4)\"]*(dta[\"Car Access\"]-(dta[\"Car Access\"]*pm[\"PR(car|Z4)\"]+dta[\"Bus Access\"]*pm[\"PR(bus|Z4)\"]))+\n",
    "                             1.0*pm[\"PR(bus|Z4)\"]*(dta[\"Bus Access\"]-(dta[\"Car Access\"]*pm[\"PR(car|Z4)\"]+dta[\"Bus Access\"]*pm[\"PR(bus|Z4)\"]))                             \n",
    "                             )\n",
    "    Term1dFMatrix[\"dF0dtt\"] = -1.0*(0.0*pm[\"PR(car|Z1)\"]*(dta[\"TT Car Z1\"]-(dta[\"TT Car Z1\"]*pm[\"PR(car|Z1)\"]+dta[\"TT Bus Z1\"]*pm[\"PR(bus|Z1)\"]))+\n",
    "                             1.0*pm[\"PR(bus|Z1)\"]*(dta[\"TT Bus Z1\"]-(dta[\"TT Car Z1\"]*pm[\"PR(car|Z1)\"]+dta[\"TT Bus Z1\"]*pm[\"PR(bus|Z1)\"]))+\n",
    "                             1.0*pm[\"PR(bus|Z3)\"]*(dta[\"TT Bus Z3\"]-dta[\"TT Bus Z3\"]*pm[\"PR(bus|Z3)\"])+\n",
    "                             0.0*pm[\"PR(car|Z4)\"]*(dta[\"TT Car Z4\"]-(dta[\"TT Car Z4\"]*pm[\"PR(car|Z4)\"]+dta[\"TT Bus Z4\"]*pm[\"PR(bus|Z4)\"]))+\n",
    "                             1.0*pm[\"PR(bus|Z4)\"]*(dta[\"TT Bus Z4\"]-(dta[\"TT Car Z4\"]*pm[\"PR(car|Z4)\"]+dta[\"TT Bus Z4\"]*pm[\"PR(bus|Z4)\"]))                             \n",
    "                             )\n",
    "    Term1dFMatrix[\"dF0dtc\"] = -1.0*(0.0*pm[\"PR(car|Z1)\"]*(dta[\"TC Car Z1\"]-(dta[\"TC Car Z1\"]*pm[\"PR(car|Z1)\"]+dta[\"TC Bus Z1\"]*pm[\"PR(bus|Z1)\"]))+\n",
    "                             1.0*pm[\"PR(bus|Z1)\"]*(dta[\"TC Bus Z1\"]-(dta[\"TC Car Z1\"]*pm[\"PR(car|Z1)\"]+dta[\"TC Bus Z1\"]*pm[\"PR(bus|Z1)\"]))+\n",
    "                             1.0*pm[\"PR(bus|Z3)\"]*(dta[\"TC Bus Z3\"]-dta[\"TC Bus Z3\"]*pm[\"PR(bus|Z3)\"])+\n",
    "                             0.0*pm[\"PR(car|Z4)\"]*(dta[\"TC Car Z4\"]-(dta[\"TC Car Z4\"]*pm[\"PR(car|Z4)\"]+dta[\"TC Bus Z4\"]*pm[\"PR(bus|Z4)\"]))+\n",
    "                             1.0*pm[\"PR(bus|Z4)\"]*(dta[\"TC Bus Z4\"]-(dta[\"TC Car Z4\"]*pm[\"PR(car|Z4)\"]+dta[\"TC Bus Z4\"]*pm[\"PR(bus|Z4)\"]))                             \n",
    "                             ) \n",
    "   \n",
    "    Term1dFMatrix[\"dFmd0\"] = -1.0*(dta[\"Car Access\"]*pm[\"PR(car|Z1)\"]*(0.0-(0.0*pm[\"PR(car|Z1)\"]+1.0*pm[\"PR(bus|Z1)\"]))+\n",
    "                             dta[\"Bus Access\"]*pm[\"PR(bus|Z1)\"]*(1.0-(0.0*pm[\"PR(car|Z1)\"]+1.0*pm[\"PR(bus|Z1)\"]))+\n",
    "                             dta[\"Bus Access\"]*pm[\"PR(bus|Z3)\"]*(1.0-1.0**pm[\"PR(bus|Z3)\"])+\n",
    "                             dta[\"Car Access\"]*pm[\"PR(car|Z4)\"]*(0.0-(0.0*pm[\"PR(car|Z4)\"]+1.0*pm[\"PR(bus|Z4)\"]))+\n",
    "                             dta[\"Bus Access\"]*pm[\"PR(bus|Z4)\"]*(1.0-(0.0*pm[\"PR(car|Z4)\"]+1.0*pm[\"PR(bus|Z4)\"]))                             \n",
    "                             )\n",
    "    Term1dFMatrix[\"dFmdm\"] = -1.0*(dta[\"Car Access\"]*pm[\"PR(car|Z1)\"]*(dta[\"Car Access\"]-(dta[\"Car Access\"]*pm[\"PR(car|Z1)\"]+dta[\"Bus Access\"]*pm[\"PR(bus|Z1)\"]))+\n",
    "                             dta[\"Bus Access\"]*pm[\"PR(bus|Z1)\"]*(dta[\"Bus Access\"]-(dta[\"Car Access\"]*pm[\"PR(car|Z1)\"]+dta[\"Bus Access\"]*pm[\"PR(bus|Z1)\"]))+\n",
    "                             dta[\"Bus Access\"]*pm[\"PR(bus|Z3)\"]*(dta[\"Bus Access\"]-dta[\"Bus Access\"]*pm[\"PR(bus|Z3)\"])+\n",
    "                             dta[\"Car Access\"]*pm[\"PR(car|Z4)\"]*(dta[\"Car Access\"]-(dta[\"Car Access\"]*pm[\"PR(car|Z4)\"]+dta[\"Bus Access\"]*pm[\"PR(bus|Z4)\"]))+\n",
    "                             dta[\"Bus Access\"]*pm[\"PR(bus|Z4)\"]*(dta[\"Bus Access\"]-(dta[\"Car Access\"]*pm[\"PR(car|Z4)\"]+dta[\"Bus Access\"]*pm[\"PR(bus|Z4)\"]))                             \n",
    "                             )\n",
    "    Term1dFMatrix[\"dFmdtt\"] = -1.0*(dta[\"Car Access\"]*pm[\"PR(car|Z1)\"]*(dta[\"TT Car Z1\"]-(dta[\"TT Car Z1\"]*pm[\"PR(car|Z1)\"]+dta[\"TT Bus Z1\"]*pm[\"PR(bus|Z1)\"]))+\n",
    "                             dta[\"Bus Access\"]*pm[\"PR(bus|Z1)\"]*(dta[\"TT Bus Z1\"]-(dta[\"TT Car Z1\"]*pm[\"PR(car|Z1)\"]+dta[\"TT Bus Z1\"]*pm[\"PR(bus|Z1)\"]))+\n",
    "                             dta[\"Bus Access\"]*pm[\"PR(bus|Z3)\"]*(dta[\"TT Bus Z3\"]-dta[\"TT Bus Z3\"]*pm[\"PR(bus|Z3)\"])+\n",
    "                             dta[\"Car Access\"]*pm[\"PR(car|Z4)\"]*(dta[\"TT Car Z4\"]-(dta[\"TT Car Z4\"]*pm[\"PR(car|Z4)\"]+dta[\"TT Bus Z4\"]*pm[\"PR(bus|Z4)\"]))+\n",
    "                             dta[\"Bus Access\"]*pm[\"PR(bus|Z4)\"]*(dta[\"TT Bus Z4\"]-(dta[\"TT Car Z4\"]*pm[\"PR(car|Z4)\"]+dta[\"TT Bus Z4\"]*pm[\"PR(bus|Z4)\"]))                             \n",
    "                             )\n",
    "    Term1dFMatrix[\"dFmdtc\"] = -1.0*(dta[\"Car Access\"]*pm[\"PR(car|Z1)\"]*(dta[\"TC Car Z1\"]-(dta[\"TC Car Z1\"]*pm[\"PR(car|Z1)\"]+dta[\"TC Bus Z1\"]*pm[\"PR(bus|Z1)\"]))+\n",
    "                             dta[\"Bus Access\"]*pm[\"PR(bus|Z1)\"]*(dta[\"TC Bus Z1\"]-(dta[\"TC Car Z1\"]*pm[\"PR(car|Z1)\"]+dta[\"TC Bus Z1\"]*pm[\"PR(bus|Z1)\"]))+\n",
    "                             dta[\"Bus Access\"]*pm[\"PR(bus|Z3)\"]*(dta[\"TC Bus Z3\"]-dta[\"TC Bus Z3\"]*pm[\"PR(bus|Z3)\"])+\n",
    "                             dta[\"Car Access\"]*pm[\"PR(car|Z4)\"]*(dta[\"TC Car Z4\"]-(dta[\"TC Car Z4\"]*pm[\"PR(car|Z4)\"]+dta[\"TC Bus Z4\"]*pm[\"PR(bus|Z4)\"]))+\n",
    "                             dta[\"Bus Access\"]*pm[\"PR(bus|Z4)\"]*(dta[\"TC Bus Z4\"]-(dta[\"TC Car Z4\"]*pm[\"PR(car|Z4)\"]+dta[\"TC Bus Z4\"]*pm[\"PR(bus|Z4)\"]))                             \n",
    "                             ) \n",
    "    \n",
    "     \n",
    "    Term1dFMatrix[\"dFttd0\"] = -1.0*(dta[\"TT Car Z1\"]*pm[\"PR(car|Z1)\"]*(0.0-(0.0*pm[\"PR(car|Z1)\"]+1.0*pm[\"PR(bus|Z1)\"]))+\n",
    "                             dta[\"TT Bus Z1\"]*pm[\"PR(bus|Z1)\"]*(1.0-(0.0*pm[\"PR(car|Z1)\"]+1.0*pm[\"PR(bus|Z1)\"]))+\n",
    "                             dta[\"TT Bus Z3\"]*pm[\"PR(bus|Z3)\"]*(1.0-1.0**pm[\"PR(bus|Z3)\"])+\n",
    "                             dta[\"TT Car Z4\"]*pm[\"PR(car|Z4)\"]*(0.0-(0.0*pm[\"PR(car|Z4)\"]+1.0*pm[\"PR(bus|Z4)\"]))+\n",
    "                             dta[\"TT Bus Z4\"]*pm[\"PR(bus|Z4)\"]*(1.0-(0.0*pm[\"PR(car|Z4)\"]+1.0*pm[\"PR(bus|Z4)\"]))                             \n",
    "                             )\n",
    "    Term1dFMatrix[\"dFttdm\"] = -1.0*(dta[\"TT Car Z1\"]*pm[\"PR(car|Z1)\"]*(dta[\"Car Access\"]-(dta[\"Car Access\"]*pm[\"PR(car|Z1)\"]+dta[\"Bus Access\"]*pm[\"PR(bus|Z1)\"]))+\n",
    "                             dta[\"TT Bus Z1\"]*pm[\"PR(bus|Z1)\"]*(dta[\"Bus Access\"]-(dta[\"Car Access\"]*pm[\"PR(car|Z1)\"]+dta[\"Bus Access\"]*pm[\"PR(bus|Z1)\"]))+\n",
    "                             dta[\"TT Bus Z3\"]*pm[\"PR(bus|Z3)\"]*(dta[\"Bus Access\"]-dta[\"Bus Access\"]*pm[\"PR(bus|Z3)\"])+\n",
    "                             dta[\"TT Car Z4\"]*pm[\"PR(car|Z4)\"]*(dta[\"Car Access\"]-(dta[\"Car Access\"]*pm[\"PR(car|Z4)\"]+dta[\"Bus Access\"]*pm[\"PR(bus|Z4)\"]))+\n",
    "                             dta[\"TT Bus Z4\"]*pm[\"PR(bus|Z4)\"]*(dta[\"Bus Access\"]-(dta[\"Car Access\"]*pm[\"PR(car|Z4)\"]+dta[\"Bus Access\"]*pm[\"PR(bus|Z4)\"]))                             \n",
    "                             )\n",
    "    Term1dFMatrix[\"dFttdtt\"] = -1.0*(dta[\"TT Car Z1\"]*pm[\"PR(car|Z1)\"]*(dta[\"TT Car Z1\"]-(dta[\"TT Car Z1\"]*pm[\"PR(car|Z1)\"]+dta[\"TT Bus Z1\"]*pm[\"PR(bus|Z1)\"]))+\n",
    "                             dta[\"TT Bus Z1\"]*pm[\"PR(bus|Z1)\"]*(dta[\"TT Bus Z1\"]-(dta[\"TT Car Z1\"]*pm[\"PR(car|Z1)\"]+dta[\"TT Bus Z1\"]*pm[\"PR(bus|Z1)\"]))+\n",
    "                             dta[\"TT Bus Z3\"]*pm[\"PR(bus|Z3)\"]*(dta[\"TT Bus Z3\"]-dta[\"TT Bus Z3\"]*pm[\"PR(bus|Z3)\"])+\n",
    "                             dta[\"TT Car Z4\"]*pm[\"PR(car|Z4)\"]*(dta[\"TT Car Z4\"]-(dta[\"TT Car Z4\"]*pm[\"PR(car|Z4)\"]+dta[\"TT Bus Z4\"]*pm[\"PR(bus|Z4)\"]))+\n",
    "                             dta[\"TT Bus Z4\"]*pm[\"PR(bus|Z4)\"]*(dta[\"TT Bus Z4\"]-(dta[\"TT Car Z4\"]*pm[\"PR(car|Z4)\"]+dta[\"TT Bus Z4\"]*pm[\"PR(bus|Z4)\"]))                             \n",
    "                             )\n",
    "    Term1dFMatrix[\"dFttdtc\"] = -1.0*(dta[\"TT Car Z1\"]*pm[\"PR(car|Z1)\"]*(dta[\"TC Car Z1\"]-(dta[\"TC Car Z1\"]*pm[\"PR(car|Z1)\"]+dta[\"TC Bus Z1\"]*pm[\"PR(bus|Z1)\"]))+\n",
    "                             dta[\"TT Bus Z1\"]*pm[\"PR(bus|Z1)\"]*(dta[\"TC Bus Z1\"]-(dta[\"TC Car Z1\"]*pm[\"PR(car|Z1)\"]+dta[\"TC Bus Z1\"]*pm[\"PR(bus|Z1)\"]))+\n",
    "                             dta[\"TT Bus Z3\"]*pm[\"PR(bus|Z3)\"]*(dta[\"TC Bus Z3\"]-dta[\"TC Bus Z3\"]*pm[\"PR(bus|Z3)\"])+\n",
    "                             dta[\"TT Car Z4\"]*pm[\"PR(car|Z4)\"]*(dta[\"TC Car Z4\"]-(dta[\"TC Car Z4\"]*pm[\"PR(car|Z4)\"]+dta[\"TC Bus Z4\"]*pm[\"PR(bus|Z4)\"]))+\n",
    "                             dta[\"TT Bus Z4\"]*pm[\"PR(bus|Z4)\"]*(dta[\"TC Bus Z4\"]-(dta[\"TC Car Z4\"]*pm[\"PR(car|Z4)\"]+dta[\"TC Bus Z4\"]*pm[\"PR(bus|Z4)\"]))                             \n",
    "                             )\n",
    "                                                         \n",
    "    Term1dFMatrix[\"dFtcd0\"] = -1.0*(dta[\"TC Car Z1\"]*pm[\"PR(car|Z1)\"]*(0.0-(0.0*pm[\"PR(car|Z1)\"]+1.0*pm[\"PR(bus|Z1)\"]))+\n",
    "                             dta[\"TC Bus Z1\"]*pm[\"PR(bus|Z1)\"]*(1.0-(0.0*pm[\"PR(car|Z1)\"]+1.0*pm[\"PR(bus|Z1)\"]))+\n",
    "                             dta[\"TC Bus Z3\"]*pm[\"PR(bus|Z3)\"]*(1.0-1.0**pm[\"PR(bus|Z3)\"])+\n",
    "                             dta[\"TC Car Z4\"]*pm[\"PR(car|Z4)\"]*(0.0-(0.0*pm[\"PR(car|Z4)\"]+1.0*pm[\"PR(bus|Z4)\"]))+\n",
    "                             dta[\"TC Bus Z4\"]*pm[\"PR(bus|Z4)\"]*(1.0-(0.0*pm[\"PR(car|Z4)\"]+1.0*pm[\"PR(bus|Z4)\"]))                             \n",
    "                             )\n",
    "    Term1dFMatrix[\"dFtcdm\"] = -1.0*(dta[\"TC Car Z1\"]*pm[\"PR(car|Z1)\"]*(dta[\"Car Access\"]-(dta[\"Car Access\"]*pm[\"PR(car|Z1)\"]+dta[\"Bus Access\"]*pm[\"PR(bus|Z1)\"]))+\n",
    "                             dta[\"TC Bus Z1\"]*pm[\"PR(bus|Z1)\"]*(dta[\"Bus Access\"]-(dta[\"Car Access\"]*pm[\"PR(car|Z1)\"]+dta[\"Bus Access\"]*pm[\"PR(bus|Z1)\"]))+\n",
    "                             dta[\"TC Bus Z3\"]*pm[\"PR(bus|Z3)\"]*(dta[\"Bus Access\"]-dta[\"Bus Access\"]*pm[\"PR(bus|Z3)\"])+\n",
    "                             dta[\"TC Car Z4\"]*pm[\"PR(car|Z4)\"]*(dta[\"Car Access\"]-(dta[\"Car Access\"]*pm[\"PR(car|Z4)\"]+dta[\"Bus Access\"]*pm[\"PR(bus|Z4)\"]))+\n",
    "                             dta[\"TC Bus Z4\"]*pm[\"PR(bus|Z4)\"]*(dta[\"Bus Access\"]-(dta[\"Car Access\"]*pm[\"PR(car|Z4)\"]+dta[\"Bus Access\"]*pm[\"PR(bus|Z4)\"]))                             \n",
    "                             )\n",
    "    Term1dFMatrix[\"dFtcdtt\"] = -1.0*(dta[\"TC Car Z1\"]*pm[\"PR(car|Z1)\"]*(dta[\"TT Car Z1\"]-(dta[\"TT Car Z1\"]*pm[\"PR(car|Z1)\"]+dta[\"TT Bus Z1\"]*pm[\"PR(bus|Z1)\"]))+\n",
    "                             dta[\"TC Bus Z1\"]*pm[\"PR(bus|Z1)\"]*(dta[\"TT Bus Z1\"]-(dta[\"TT Car Z1\"]*pm[\"PR(car|Z1)\"]+dta[\"TT Bus Z1\"]*pm[\"PR(bus|Z1)\"]))+\n",
    "                             dta[\"TC Bus Z3\"]*pm[\"PR(bus|Z3)\"]*(dta[\"TT Bus Z3\"]-dta[\"TT Bus Z3\"]*pm[\"PR(bus|Z3)\"])+\n",
    "                             dta[\"TC Car Z4\"]*pm[\"PR(car|Z4)\"]*(dta[\"TT Car Z4\"]-(dta[\"TT Car Z4\"]*pm[\"PR(car|Z4)\"]+dta[\"TT Bus Z4\"]*pm[\"PR(bus|Z4)\"]))+\n",
    "                             dta[\"TC Bus Z4\"]*pm[\"PR(bus|Z4)\"]*(dta[\"TT Bus Z4\"]-(dta[\"TT Car Z4\"]*pm[\"PR(car|Z4)\"]+dta[\"TT Bus Z4\"]*pm[\"PR(bus|Z4)\"]))                             \n",
    "                             )\n",
    "    Term1dFMatrix[\"dFtcdtc\"] = -1.0*(dta[\"TC Car Z1\"]*pm[\"PR(car|Z1)\"]*(dta[\"TC Car Z1\"]-(dta[\"TC Car Z1\"]*pm[\"PR(car|Z1)\"]+dta[\"TC Bus Z1\"]*pm[\"PR(bus|Z1)\"]))+\n",
    "                             dta[\"TC Bus Z1\"]*pm[\"PR(bus|Z1)\"]*(dta[\"TC Bus Z1\"]-(dta[\"TC Car Z1\"]*pm[\"PR(car|Z1)\"]+dta[\"TC Bus Z1\"]*pm[\"PR(bus|Z1)\"]))+\n",
    "                             dta[\"TC Bus Z3\"]*pm[\"PR(bus|Z3)\"]*(dta[\"TC Bus Z3\"]-dta[\"TC Bus Z3\"]*pm[\"PR(bus|Z3)\"])+\n",
    "                             dta[\"TC Car Z4\"]*pm[\"PR(car|Z4)\"]*(dta[\"TC Car Z4\"]-(dta[\"TC Car Z4\"]*pm[\"PR(car|Z4)\"]+dta[\"TC Bus Z4\"]*pm[\"PR(bus|Z4)\"]))+\n",
    "                             dta[\"TC Bus Z4\"]*pm[\"PR(bus|Z4)\"]*(dta[\"TC Bus Z4\"]-(dta[\"TC Car Z4\"]*pm[\"PR(car|Z4)\"]+dta[\"TC Bus Z4\"]*pm[\"PR(bus|Z4)\"]))                             \n",
    "                             )                         \n",
    "    return Term1dFMatrix"
   ]
  },
  {
   "cell_type": "code",
   "execution_count": null,
   "metadata": {},
   "outputs": [],
   "source": []
  },
  {
   "cell_type": "code",
   "execution_count": 46,
   "metadata": {},
   "outputs": [],
   "source": [
    "def Term1dFMat(Term1dF):\n",
    "    m = Term1dF\n",
    "    df = [[sum(m[\"dF0d0\"]), sum(m[\"dF0dm\"]),sum(m[\"dF0dtt\"]),sum(m[\"dF0dtc\"])],\n",
    "          [sum(m[\"dFmd0\"]), sum(m[\"dFmdm\"]),sum(m[\"dFmdtt\"]),sum(m[\"dFmdtc\"])],\n",
    "          [sum(m[\"dFttd0\"]), sum(m[\"dFttdm\"]),sum(m[\"dFttdtt\"]),sum(m[\"dFttdtc\"])],\n",
    "          [sum(m[\"dFtcd0\"]), sum(m[\"dFtcdm\"]),sum(m[\"dFtcdtt\"]),sum(m[\"dFtcdtc\"])]\n",
    "          ]\n",
    "    dF = np.array(df)\n",
    "    return dF"
   ]
  },
  {
   "cell_type": "code",
   "execution_count": 47,
   "metadata": {},
   "outputs": [],
   "source": [
    "def convergenceTest(oldthetaset, newthetaset, criteria):\n",
    "    boolcheck = True\n",
    "    \n",
    "    for i in xrange(len(oldthetaset)):\n",
    "        if abs(oldthetaset[i]-newthetaset[i]) > criteria:\n",
    "            return False\n",
    "    return boolcheck"
   ]
  },
  {
   "cell_type": "code",
   "execution_count": null,
   "metadata": {},
   "outputs": [],
   "source": []
  },
  {
   "cell_type": "code",
   "execution_count": 48,
   "metadata": {},
   "outputs": [],
   "source": [
    "def Step1(init_theta_access, init_theta_time, init_theta_cost, tempYset, dta, convergenceCriteria):\n",
    "    theta_access, theta_time, theta_cost = init_theta_access, init_theta_time, init_theta_cost\n",
    "    criteria = convergenceCriteria\n",
    "    accessconstlog,accesslog,  timelog, costlog = [theta_access[\"const\"]],[theta_access[\"mode\"]], [theta_time], [theta_cost]\n",
    "    \n",
    "    for i in xrange(100):\n",
    "        UtilityMatrix = calUtilityforDestination(theta_access, theta_time, theta_cost)\n",
    "        ConditionalProbMatrix= calConditionalProb(UtilityMatrix, u_m)\n",
    "        Term1F = calTerm1F(ConditionalProbMatrix,tempYset,dta)\n",
    "        Term1Fmat = Term1FMat(Term1F)\n",
    "        Term1dF = calTerm1dF(ConditionalProbMatrix,dta)\n",
    "        Term1dFmat = Term1dFMat(Term1dF)\n",
    "        oldthetaset = [theta_access[\"const\"], theta_access[\"mode\"], theta_time, theta_cost]\n",
    "        newthetaset = oldthetaset-np.dot(np.linalg.inv(Term1dFmat),Term1Fmat)\n",
    "        converged = convergenceTest(oldthetaset, newthetaset, criteria)\n",
    "        theta_access = {\"const\":newthetaset[0], \"mode\":newthetaset[1]}\n",
    "        theta_time, theta_cost = newthetaset[2], newthetaset[3]\n",
    "        accessconstlog.append(theta_access[\"const\"])\n",
    "        accesslog.append(theta_access[\"mode\"])\n",
    "        timelog.append(theta_time)\n",
    "        costlog.append(theta_cost)\n",
    "        if converged == True:\n",
    "            print \"--------------------------------------------------------------\"\n",
    "            print \"Converged After %s th iteration\" %(i)\n",
    "            print \"Theta_access[const] = %s, Theta_access[mode] = %s, Theta_time = %s, Theta_cost = %s\"%(theta_access[\"const\"],theta_access[\"mode\"], theta_time, theta_cost)\n",
    "            print \"--------------------------------------------------------------\"\n",
    "            break\n",
    "    UtilityMatrix = calUtilityforDestination(theta_access, theta_time, theta_cost)\n",
    "    ConditionalProbMatrix= calConditionalProb(UtilityMatrix, u_m)\n",
    "    return theta_access, theta_time,theta_cost, UtilityMatrix, ConditionalProbMatrix,[accessconstlog,accesslog,  timelog, costlog]"
   ]
  },
  {
   "cell_type": "markdown",
   "metadata": {},
   "source": [
    "#### Results of Step 1\n",
    "These are initial inputs and u_m is assummed to be 1.0. The parameters are estimated after 26 th iterations when the convergence criteria is set as $1e-06$. Time and cost for going to destination d by mode m have negative effects on selecting mode m under the condition of destination d. And the constant of access means a car is preferred than bus in that its coefficient value has minus value. Furthermore access level has a positive effect on selecting mode. "
   ]
  },
  {
   "cell_type": "code",
   "execution_count": 49,
   "metadata": {},
   "outputs": [
    {
     "name": "stdout",
     "output_type": "stream",
     "text": [
      "--------------------------------------------------------------\n",
      "Converged After 26 th iteration\n",
      "Theta_access[const] = -0.440136790122, Theta_access[mode] = 0.379252010496, Theta_time = -0.438586800879, Theta_cost = -0.211952181207\n",
      "--------------------------------------------------------------\n"
     ]
    },
    {
     "data": {
      "text/plain": [
       "Text(0.5,1,u'cost')"
      ]
     },
     "execution_count": 49,
     "metadata": {},
     "output_type": "execute_result"
    },
    {
     "data": {
      "image/png": "[encoded data removed]",
      "text/plain": [
       "<matplotlib.figure.Figure at 0xa5a6d30>"
      ]
     },
     "metadata": {},
     "output_type": "display_data"
    }
   ],
   "source": [
    "init_theta_access = {\"const\":0.5, \"mode\":1.0}\n",
    "\n",
    "init_theta_time, init_theta_cost = -0.3, -0.3\n",
    "u_m = 1.0\n",
    "theta_access, theta_time,theta_cost, UtilityMatrix, ConditionalProbMatrix, parameterlog = Step1(init_theta_access, \n",
    "                                                                                  init_theta_time, init_theta_cost,\n",
    "                                                                                  tempYset, dta, 0.000001)\n",
    "f, (ax2, ax3, ax4, ax5) = plt.subplots(1,4,sharex=True, sharey=False)\n",
    "ax2.plot(parameterlog[0])\n",
    "ax2.set_title(\"constant(Access)\")\n",
    "ax3.plot(parameterlog[1])\n",
    "ax3.set_title(\"Access\")\n",
    "ax4.plot(parameterlog[2])\n",
    "ax4.set_title(\"time\")\n",
    "ax5.plot(parameterlog[3])\n",
    "ax5.set_title(\"cost\")"
   ]
  },
  {
   "cell_type": "markdown",
   "metadata": {},
   "source": [
    "Figure 2. parameter changes in Step 1 "
   ]
  },
  {
   "cell_type": "markdown",
   "metadata": {
    "collapsed": true
   },
   "source": [
    "#### Step 2\n",
    "We estimated coefficients associated with conditional choice model $\\hat{\\beta_{m}}$ and $\\hat{\\beta_{dm}}$. In step 2, $\\hat{\\beta_{m}}$ and $\\hat{\\beta_{dm}}$ are used to compute an estimated log sum term of $\\hat{\\tilde{V}}^{n}_{d}$ of $\\tilde{V}^{n}_{d}$. Because we assumed $u_{m}=1$, $\\hat{\\tilde{V}}^{n}_{d}$ can be computed as follows:"
   ]
  },
  {
   "cell_type": "markdown",
   "metadata": {},
   "source": [
    "$$\\hat{\\tilde{V}}^{n}_{d} = \\frac{1}{u_{m}}ln \\sum_{\\forall {m} \\in M_{d}'} e^{u_{d}(V_{d}+\\tilde{V}^{n}_{d})} \n",
    "= ln \\sum_{\\forall {m} \\in M_{d}'} e^{(\\hat{\\beta'}_{m}x^{n}_{m}+\\hat{\\beta'}_{dm}x^{n}_{dm})}$$"
   ]
  },
  {
   "cell_type": "code",
   "execution_count": 50,
   "metadata": {},
   "outputs": [],
   "source": [
    "def Step2(UtilityMatrix):\n",
    "    u = UtilityMatrix\n",
    "    u[\"V~_Z1\"] = np.log(np.exp(u[\"Um_Car\"]+u[\"Udm_Z1C\"])+np.exp(u[\"Um_Bus\"]+u[\"Udm_Z1B\"]))\n",
    "    u[\"V~_Z3\"] = np.log(np.exp(u[\"Um_Bus\"]+u[\"Udm_Z3B\"]))\n",
    "    u[\"V~_Z4\"] = np.log(np.exp(u[\"Um_Car\"]+u[\"Udm_Z4C\"])+np.exp(u[\"Um_Bus\"]+u[\"Udm_Z4B\"]))\n",
    "    return u"
   ]
  },
  {
   "cell_type": "code",
   "execution_count": 51,
   "metadata": {},
   "outputs": [
    {
     "name": "stdout",
     "output_type": "stream",
     "text": [
      "     Um_Car    Um_Bus   Udm_Z1C   Udm_Z1B   Udm_Z3B   Udm_Z4C   Udm_Z4B  \\\n",
      "0  3.034016  0.318367 -4.115186 -4.144551 -6.337485 -3.691282 -3.932599   \n",
      "1  1.896260  3.352383 -3.691282 -3.055425 -5.233677 -3.252695 -2.843473   \n",
      "2  0.758504  1.456123 -3.676599 -2.616838 -5.233677 -3.903234 -3.932599   \n",
      "\n",
      "      V~_Z1     V~_Z3     V~_Z4  \n",
      "0 -1.018902 -6.019118 -0.606595  \n",
      "1  0.413356 -1.881293  0.652875  \n",
      "2 -1.001580 -3.777553 -2.062644  \n"
     ]
    }
   ],
   "source": [
    "Updated_UtilityMatrix = Step2(UtilityMatrix)\n",
    "print Updated_UtilityMatrix[0:3]"
   ]
  },
  {
   "cell_type": "markdown",
   "metadata": {},
   "source": [
    "#### Step 3\n",
    "From Step 2, we can regard $\\hat{\\tilde{V}}^{n}_{d}$ as an independent variable in the marginal choice model $Pr^{n}(d|D_{n})$ to estimate $\\hat{u_{d}}, \\theta_{d}$ and $\\hat{u_d}$; i.e., "
   ]
  },
  {
   "cell_type": "markdown",
   "metadata": {},
   "source": [
    "$$Pr^{n}(d|D_n) = \\frac{e^{u_{d}(V_{d}+\\tilde{V}^{n}_{d})}}{ \\sum_{\\forall {d}'} e^{u_{d'}(V_{d'}+\\tilde{V}^{n}_{d'})}}$$"
   ]
  },
  {
   "cell_type": "markdown",
   "metadata": {},
   "source": [
    "In step3, the term 2 of Log likelihood function is used to find $\\hat{u_{d}}, \\theta_{d}$ and $\\hat{u_d}$ which maximize likelihood value of the term 2. Note that by regarding $\\hat{u_{d}}\\theta_{d}$ as $\\beta_{d}$  and  $\\hat{u_{d}}$ as $\\hat{\\beta_{d}}$, we can make the estimation process simple. "
   ]
  },
  {
   "cell_type": "markdown",
   "metadata": {},
   "source": [
    "$$\\sum^{N}_{n=1} \\sum_{\\forall d,m \\in C_{n}}y^{n}_{dm}ln \\begin{pmatrix} \\frac{e^{u_{d}(V_{d}+\\tilde{V}^{n}_{d})}}{ \\sum_{\\forall {d}'} e^{u_{d'}(V_{d'}+\\tilde{V}^{n}_{d'})}}\\end{pmatrix}$$"
   ]
  },
  {
   "cell_type": "markdown",
   "metadata": {},
   "source": [
    "After we estimate $\\beta_{d}$ and $\\tilde{\\beta_{d}}$, $u_{d}$, $\\theta_{d}$ can be computed as follows:"
   ]
  },
  {
   "cell_type": "markdown",
   "metadata": {},
   "source": [
    "$\\theta_{d} = \\beta_{d} /\\tilde{\\beta_{d}} $ and $u_{d} = \\tilde{\\beta_{d}}$"
   ]
  },
  {
   "cell_type": "code",
   "execution_count": 52,
   "metadata": {},
   "outputs": [],
   "source": [
    "init_theta_shops = {\"const\":-0.7, \"Zone\":0.0 }\n",
    "u_d = 1.0"
   ]
  },
  {
   "cell_type": "code",
   "execution_count": 53,
   "metadata": {},
   "outputs": [],
   "source": [
    "def Step3_Utilityfunction(utilitymatrix, u_d_const, u_d_beta1, u_d_beta2, dta):\n",
    "    u = utilitymatrix\n",
    "    newUmat = pd.DataFrame()\n",
    "    newUmat[\"V~_Z1\"] = u_d_beta2*u[\"V~_Z1\"]\n",
    "    newUmat[\"V~_Z3\"] = u_d_beta2*u[\"V~_Z3\"]\n",
    "    newUmat[\"V~_Z4\"] = u_d_beta2*u[\"V~_Z4\"]\n",
    "    newUmat[\"Ud_Z1\"] = 0.0       + u_d_beta1*dta[\"#Shops Z1\"] \n",
    "    newUmat[\"Ud_Z3\"] = u_d_const + u_d_beta1*dta[\"#Shops Z3\"]\n",
    "    newUmat[\"Ud_Z4\"] = u_d_const + u_d_beta1*dta[\"#Shops Z4\"]\n",
    "    newUmat[\"U_Z1\"] = (newUmat[\"Ud_Z1\"]+newUmat[\"V~_Z1\"])\n",
    "    newUmat[\"U_Z3\"] = (newUmat[\"Ud_Z3\"]+newUmat[\"V~_Z3\"])\n",
    "    newUmat[\"U_Z4\"] = (newUmat[\"Ud_Z4\"]+newUmat[\"V~_Z4\"])\n",
    "    return newUmat"
   ]
  },
  {
   "cell_type": "code",
   "execution_count": 54,
   "metadata": {},
   "outputs": [],
   "source": [
    "def calMarginalProb(newUmat):\n",
    "    MarginalProbMatrix = pd.DataFrame()\n",
    "    denom = np.exp(newUmat[\"U_Z1\"])+np.exp(newUmat[\"U_Z3\"])+np.exp(newUmat[\"U_Z4\"])\n",
    "    MarginalProbMatrix[\"PR(Z1|D)\"] =  np.exp(newUmat[\"U_Z1\"])/denom\n",
    "    MarginalProbMatrix[\"PR(Z3|D)\"] =  np.exp(newUmat[\"U_Z3\"])/denom\n",
    "    MarginalProbMatrix[\"PR(Z4|D)\"] =  np.exp(newUmat[\"U_Z4\"])/denom\n",
    "    return MarginalProbMatrix"
   ]
  },
  {
   "cell_type": "code",
   "execution_count": 55,
   "metadata": {},
   "outputs": [],
   "source": [
    "def CalTerm2F(MarginalProb,tempYset,dta,newUmat):\n",
    "    Term2FMatrix = pd.DataFrame()\n",
    "    mp= MarginalProb\n",
    "    tempYset[\"y_Z1\"] = 0.0\n",
    "    tempYset[\"y_Z3\"] = 0.0\n",
    "    tempYset[\"y_Z4\"] = 0.0\n",
    "    tempYset.loc[tempYset[\"Destination\"]==\"Z1\",\"y_Z1\"]=1.0\n",
    "    tempYset.loc[tempYset[\"Destination\"]==\"Z3\",\"y_Z3\"]=1.0\n",
    "    tempYset.loc[tempYset[\"Destination\"]==\"Z4\",\"y_Z4\"]=1.0\n",
    "    \n",
    "    \n",
    "    \n",
    "    ssum =0.0*mp[\"PR(Z1|D)\"]+1.0*mp[\"PR(Z3|D)\"]+1.0*mp[\"PR(Z4|D)\"]\n",
    "\n",
    "    Term2FMatrix[\"F0\"] = (tempYset[\"y_Z1\"]*(0.0-ssum) +\n",
    "                          tempYset[\"y_Z3\"]*(1.0-ssum) +\n",
    "                          tempYset[\"y_Z4\"]*(1.0-ssum) \n",
    "                          )\n",
    "    ssum = dta[\"#Shops Z1\"]*mp[\"PR(Z1|D)\"]+dta[\"#Shops Z3\"]*mp[\"PR(Z3|D)\"]+dta[\"#Shops Z4\"]*mp[\"PR(Z4|D)\"]\n",
    "    \n",
    "    Term2FMatrix[\"Fs\"] = (tempYset[\"y_Z1\"]*(dta[\"#Shops Z1\"]-ssum) +\n",
    "                          tempYset[\"y_Z3\"]*(dta[\"#Shops Z3\"]-ssum) +\n",
    "                          tempYset[\"y_Z4\"]*(dta[\"#Shops Z4\"]-ssum) \n",
    "                          )\n",
    "    ssum = newUmat[\"V~_Z1\"]*mp[\"PR(Z1|D)\"]+newUmat[\"V~_Z3\"]*mp[\"PR(Z3|D)\"]+newUmat[\"V~_Z4\"]*mp[\"PR(Z4|D)\"]\n",
    "    Term2FMatrix[\"Fu\"] = (tempYset[\"y_Z1\"]*(newUmat[\"V~_Z1\"]-ssum) +\n",
    "                          tempYset[\"y_Z3\"]*(newUmat[\"V~_Z3\"]-ssum) +\n",
    "                          tempYset[\"y_Z4\"]*(newUmat[\"V~_Z4\"]-ssum) \n",
    "                          )\n",
    "    \n",
    "    return Term2FMatrix"
   ]
  },
  {
   "cell_type": "code",
   "execution_count": 56,
   "metadata": {},
   "outputs": [],
   "source": [
    "def Term2FMat(Term2F):\n",
    "    f = [sum(Term2F[\"F0\"]), sum(Term2F[\"Fs\"]),sum(Term2F[\"Fu\"])]\n",
    "    return f"
   ]
  },
  {
   "cell_type": "markdown",
   "metadata": {},
   "source": [
    "When thetaset and the convergence criteria are defined as follows : "
   ]
  },
  {
   "cell_type": "code",
   "execution_count": 57,
   "metadata": {},
   "outputs": [],
   "source": [
    "def calTerm2dF(marginalprobmatrix,dta,newUmat):\n",
    "    Term2dFMatrix = pd.DataFrame()\n",
    "    mp= marginalprobmatrix\n",
    "    \n",
    "    ssum =0.0*mp[\"PR(Z1|D)\"]+1.0*mp[\"PR(Z3|D)\"]+1.0*mp[\"PR(Z4|D)\"]\n",
    "    Term2dFMatrix[\"dF0d0\"] = -1.0*(0.0*mp[\"PR(Z1|D)\"]*(0.0-ssum)+\n",
    "                             1.0*mp[\"PR(Z3|D)\"]*(1.0-ssum)+\n",
    "                             1.0*mp[\"PR(Z4|D)\"]*(1.0-ssum)                         \n",
    "                             )\n",
    "    \n",
    "    ssum1 = dta[\"#Shops Z1\"]*mp[\"PR(Z1|D)\"]+dta[\"#Shops Z3\"]*mp[\"PR(Z3|D)\"]+dta[\"#Shops Z4\"]*mp[\"PR(Z4|D)\"]\n",
    "    Term2dFMatrix[\"dF0ds\"] = -1.0*(0.0*mp[\"PR(Z1|D)\"]*(dta[\"#Shops Z1\"]-ssum1)+\n",
    "                             1.0*mp[\"PR(Z3|D)\"]*(dta[\"#Shops Z3\"]-ssum1)+\n",
    "                             1.0*mp[\"PR(Z4|D)\"]*(dta[\"#Shops Z4\"]-ssum1)                         \n",
    "                             )\n",
    "    ssum2 = newUmat[\"V~_Z1\"]*mp[\"PR(Z1|D)\"]+newUmat[\"V~_Z3\"]*mp[\"PR(Z3|D)\"]+newUmat[\"V~_Z4\"]*mp[\"PR(Z4|D)\"]\n",
    "    Term2dFMatrix[\"dF0du\"] = -1.0*(0.0*mp[\"PR(Z1|D)\"]*(newUmat[\"V~_Z1\"]-ssum2)+\n",
    "                             1.0*mp[\"PR(Z3|D)\"]*(newUmat[\"V~_Z3\"]-ssum2)+\n",
    "                             1.0*mp[\"PR(Z4|D)\"]*(newUmat[\"V~_Z4\"]-ssum2)\n",
    "                             )\n",
    "    \n",
    "    \n",
    "    Term2dFMatrix[\"dFsd0\"] = -1.0*(dta[\"#Shops Z1\"]*mp[\"PR(Z1|D)\"]*(0.0-ssum)+\n",
    "                             dta[\"#Shops Z3\"]*mp[\"PR(Z3|D)\"]*(1.0-ssum)+\n",
    "                             dta[\"#Shops Z4\"]*mp[\"PR(Z4|D)\"]*(1.0-ssum)                         \n",
    "                             )\n",
    "    Term2dFMatrix[\"dFsds\"] = -1.0*(dta[\"#Shops Z1\"]*mp[\"PR(Z1|D)\"]*(dta[\"#Shops Z1\"]-ssum1)+\n",
    "                             dta[\"#Shops Z3\"]*mp[\"PR(Z3|D)\"]*(dta[\"#Shops Z3\"]-ssum1)+\n",
    "                             dta[\"#Shops Z4\"]*mp[\"PR(Z4|D)\"]*(dta[\"#Shops Z4\"]-ssum1)                         \n",
    "                             )\n",
    "    Term2dFMatrix[\"dFsdu\"] = -1.0*(newUmat[\"Ud_Z1\"]*mp[\"PR(Z1|D)\"]*(newUmat[\"V~_Z1\"]-ssum2)+\n",
    "                             newUmat[\"Ud_Z3\"]*mp[\"PR(Z3|D)\"]*(newUmat[\"V~_Z3\"]-ssum2)+\n",
    "                             newUmat[\"Ud_Z4\"]*mp[\"PR(Z4|D)\"]*(newUmat[\"V~_Z4\"]-ssum2)\n",
    "                             )\n",
    "    \n",
    "    \n",
    "    Term2dFMatrix[\"dFud0\"] = -1.0*(newUmat[\"V~_Z1\"]*mp[\"PR(Z1|D)\"]*(0.0-ssum)+\n",
    "                            newUmat[\"V~_Z3\"]*mp[\"PR(Z3|D)\"]*(1.0-ssum)+\n",
    "                            newUmat[\"V~_Z4\"]*mp[\"PR(Z4|D)\"]*(1.0-ssum)                         \n",
    "                             )\n",
    "    Term2dFMatrix[\"dFuds\"] = -1.0*(newUmat[\"V~_Z1\"]*mp[\"PR(Z1|D)\"]*(dta[\"#Shops Z1\"]-ssum1)+\n",
    "                             newUmat[\"V~_Z3\"]*mp[\"PR(Z3|D)\"]*(dta[\"#Shops Z3\"]-ssum1)+\n",
    "                             newUmat[\"V~_Z4\"]*mp[\"PR(Z4|D)\"]*(dta[\"#Shops Z4\"]-ssum1)                         \n",
    "                             )\n",
    "    \n",
    "    Term2dFMatrix[\"dFudu\"] = -1.0*(newUmat[\"V~_Z1\"]*mp[\"PR(Z1|D)\"]*(newUmat[\"V~_Z1\"]-ssum2)+\n",
    "                             newUmat[\"V~_Z3\"]*mp[\"PR(Z3|D)\"]*(newUmat[\"V~_Z3\"]-ssum2)+\n",
    "                             newUmat[\"V~_Z4\"]*mp[\"PR(Z4|D)\"]*(newUmat[\"V~_Z4\"]-ssum2)\n",
    "                             )\n",
    "    \n",
    "    return Term2dFMatrix"
   ]
  },
  {
   "cell_type": "code",
   "execution_count": 58,
   "metadata": {},
   "outputs": [],
   "source": [
    "def Term2dFMat(Term2dF):\n",
    "    m = Term2dF\n",
    "    df = [[sum(m[\"dF0d0\"]), sum(m[\"dF0ds\"]),sum(m[\"dF0du\"])],\n",
    "          [sum(m[\"dFsd0\"]), sum(m[\"dFsds\"]),sum(m[\"dFsdu\"])],\n",
    "          [sum(m[\"dFud0\"]), sum(m[\"dFuds\"]),sum(m[\"dFudu\"])],\n",
    "        ]\n",
    "    dF = np.array(df)\n",
    "    return dF"
   ]
  },
  {
   "cell_type": "code",
   "execution_count": 59,
   "metadata": {},
   "outputs": [],
   "source": [
    "def Step3(utilitymatrix, init_theta_shops, u_d, dta, convergentCriteria ):\n",
    "    criteria = convergentCriteria\n",
    "    theta_shops = init_theta_shops\n",
    "    u_d_const = init_theta_shops[\"const\"]\n",
    "    u_d_beta1, u_d_beta2 =  init_theta_shops[\"Zone\"]*u_d, u_d\n",
    "    destinconstlog,destinlog,  u_dlog= [theta_shops[\"const\"]],[theta_shops[\"Zone\"]], [u_d_beta2]\n",
    "    for i in xrange(100):\n",
    "        newUmat =Step3_Utilityfunction(utilitymatrix, u_d_const, u_d_beta1, u_d_beta2, dta)                           \n",
    "        MarginalProb = calMarginalProb(newUmat)\n",
    "        Term2F = CalTerm2F(MarginalProb,tempYset,dta,newUmat)\n",
    "        Term2Fmat = Term2FMat(Term2F)\n",
    "        Term2dF = calTerm2dF(MarginalProb,dta,newUmat)\n",
    "        Term2dFmat = Term2dFMat(Term2dF)\n",
    "        oldthetaset = [u_d_const, u_d_beta1, u_d_beta2]\n",
    "        newthetaset = oldthetaset-np.dot(np.linalg.inv(Term2dFmat),Term2Fmat)\n",
    "        converged = convergenceTest(oldthetaset, newthetaset, criteria)\n",
    "        u_d_const = newthetaset[0]\n",
    "        u_d_beta1 = newthetaset[1]\n",
    "        u_d_beta2 = newthetaset[2]\n",
    "        if u_d_beta2 <>0:\n",
    "            theta_shops= {\"const\":newthetaset[0]/u_d_beta2, \"Zone\":u_d_beta1/u_d_beta2}\n",
    "            destinconstlog.append(theta_shops[\"const\"])\n",
    "            destinlog.append(theta_shops[\"Zone\"])\n",
    "            u_dlog.append(u_d_beta2)\n",
    "        else:\n",
    "            theta_shops = {\"const\":9999.0, \"Zone\":9999.0}\n",
    "        if converged == True:\n",
    "            print \"--------------------------------------------------------------\"\n",
    "            print \"Converged After %s th iteration\" %(i)\n",
    "            print \"Theta_shops[const] = %s, Theta_shops[Zone] = %s, u_d = %s\"%(theta_shops[\"const\"],theta_shops[\"Zone\"], u_d_beta2)\n",
    "            print \"--------------------------------------------------------------\"\n",
    "            break\n",
    "    newUmat =Step3_Utilityfunction(utilitymatrix, u_d_const, u_d_beta1, u_d_beta2, dta)                           \n",
    "    MarginalProb = calMarginalProb(newUmat)\n",
    "    return theta_shops, newUmat, MarginalProb, [destinconstlog,destinlog,  u_dlog]"
   ]
  },
  {
   "cell_type": "code",
   "execution_count": null,
   "metadata": {},
   "outputs": [],
   "source": []
  },
  {
   "cell_type": "markdown",
   "metadata": {},
   "source": [
    "The process have finished after 12 iterations.The estimation results said that # of shops of the destination has positive effects on a destination choice. Note that u_d is greater that 1.0. $u_{m}/u_{d}$ should less than 1.0. We assume $u_{m}$ is equal to 1, thus the converged $u_{d}$ value is always greater than  1.0 although the initial value set to be less than 1.0. "
   ]
  },
  {
   "cell_type": "code",
   "execution_count": 60,
   "metadata": {},
   "outputs": [
    {
     "name": "stdout",
     "output_type": "stream",
     "text": [
      "--------------------------------------------------------------\n",
      "Converged After 12 th iteration\n",
      "Theta_shops[const] = -0.301396645237, Theta_shops[Zone] = 0.303956253873, u_d = 1.02937236052\n",
      "--------------------------------------------------------------\n"
     ]
    },
    {
     "data": {
      "text/plain": [
       "Text(0.5,1,u'u_d')"
      ]
     },
     "execution_count": 60,
     "metadata": {},
     "output_type": "execute_result"
    },
    {
     "data": {
      "image/png": "[encoded data removed]",
      "text/plain": [
       "<matplotlib.figure.Figure at 0x9de3198>"
      ]
     },
     "metadata": {},
     "output_type": "display_data"
    }
   ],
   "source": [
    "theta_shops, newUmat, MarginalProb, parameterlog = Step3(Updated_UtilityMatrix, init_theta_shops, u_d, dta, 0.0000000001)\n",
    "f, (ax2, ax3, ax4) = plt.subplots(1,3,sharex=True, sharey=False)\n",
    "ax2.plot(parameterlog[0])\n",
    "ax2.set_title(\"constant(Shops)\")\n",
    "ax3.plot(parameterlog[1])\n",
    "ax3.set_title(\"Shops\")\n",
    "ax4.plot(parameterlog[2])\n",
    "ax4.set_title(\"u_d\")"
   ]
  },
  {
   "cell_type": "markdown",
   "metadata": {},
   "source": [
    "Figure 3. parameter changes in Step 3 "
   ]
  },
  {
   "cell_type": "markdown",
   "metadata": {},
   "source": [
    "## 5. Goodness of fitness"
   ]
  },
  {
   "cell_type": "code",
   "execution_count": 61,
   "metadata": {},
   "outputs": [],
   "source": [
    "def predict(theta_access, theta_time, theta_cost, theta_shops,u_d, dta):\n",
    "    u_m=1.0\n",
    "    UtilityMatrix = calUtilityforDestination(theta_access, theta_time, theta_cost)\n",
    "    ConditionalProbMatrix= calConditionalProb(UtilityMatrix, u_m)\n",
    "    Updated_UtilityMatrix = Step2(utilityMatrix)\n",
    "    theta_shops = theta_shops\n",
    "    u_d_const = theta_shops[\"const\"]\n",
    "    u_d_beta1, u_d_beta2 =  init_theta_shops[\"Zone\"]*u_d, u_d\n",
    "    newUmat =Step3_Utilityfunction(Updated_UtilityMatrix, u_d_const, u_d_beta1, u_d_beta2, dta)                           \n",
    "    MarginalProb = calMarginalProb(newUmat)\n"
   ]
  },
  {
   "cell_type": "code",
   "execution_count": 62,
   "metadata": {},
   "outputs": [
    {
     "data": {
      "text/plain": [
       "({'const': -0.4401367901223725, 'mode': 0.37925201049594676},\n",
       " -0.43858680087884638,\n",
       " -0.21195218120660833)"
      ]
     },
     "execution_count": 62,
     "metadata": {},
     "output_type": "execute_result"
    }
   ],
   "source": [
    "theta_access , theta_time,theta_cost"
   ]
  },
  {
   "cell_type": "code",
   "execution_count": null,
   "metadata": {},
   "outputs": [],
   "source": []
  },
  {
   "cell_type": "markdown",
   "metadata": {},
   "source": [
    "The model we set can be evaluated by several fittness measurements such as Counted R square, pseudo R square, and Hosmer-Lemeshow test. These methods tend to mimic the explanatory power like R square.  But it is important to know that we should not be mesmerized by these goodness of fit measures. Correc or sound specification is more important.   "
   ]
  },
  {
   "cell_type": "markdown",
   "metadata": {
    "collapsed": true
   },
   "source": [
    "### List of common goodness of fit measurements \n"
   ]
  },
  {
   "cell_type": "markdown",
   "metadata": {},
   "source": [
    "Count $R^2 = \\frac{number of correctly predicted y_{i}}{Total sample count} = 0.49$"
   ]
  },
  {
   "cell_type": "markdown",
   "metadata": {},
   "source": [
    "McFadden's $R^2 = 1-\\frac{ln\\mathbf{L}^{*}_{full}}{ln\\mathbf{L}^{*}_{intercept}} = 0.284$"
   ]
  },
  {
   "cell_type": "markdown",
   "metadata": {},
   "source": [
    "McFadden's adjusted $R^2 = 1-\\frac{ln\\mathbf{L}^{*}_{full}-k}{ln\\mathbf{L}^{*}_{intercept}} = 0.315$"
   ]
  },
  {
   "cell_type": "markdown",
   "metadata": {},
   "source": [
    "### Goodness of fit Results"
   ]
  },
  {
   "cell_type": "markdown",
   "metadata": {
    "collapsed": true
   },
   "source": [
    "The converged$ln\\mathbf{L}^{*}_{full}$ is -110.34 and $ln\\mathbf{L}^{*}_{intercept}$ is -161.18. So McFadden's $R^2$ is 0.315. This value can be regarded as that the model has low explanatory power. But the McFadden's R square tends to be small. So the values between 0.2 and 0.4 are considered reasonable. McFadden's R square depends on the size measurement. To reduce this effect, McFadden's adjusted R squred is introduced. In this study, five unknown parameters are used in the model. So McFadden's adjusted $R^2 = 1-\\frac{-110.34-5}{-161.18}= 0.284$ But this value cannot represent exactly how the model explains the individulas choice but it can be used to compare different models."
   ]
  },
  {
   "cell_type": "code",
   "execution_count": 30,
   "metadata": {},
   "outputs": [],
   "source": [
    "def goodness_of_fit(dta,tempYset, ConditionalProbMatrix,MarginalProb):\n",
    "    resultmatrix = pd.DataFrame()\n",
    "    resultmatrix[\"Mode\"] = tempYset[\"Mode\"]\n",
    "    resultmatrix[\"Zone\"] = tempYset[\"Destination\"]\n",
    "    resultmatrix[\"Pr(Car,Z1|C_n)\"] = ConditionalProbMatrix[\"PR(car|Z1)\"]*MarginalProb[\"PR(Z1|D)\"]\n",
    "    resultmatrix[\"Pr(Bus,Z1|C_n)\"] = ConditionalProbMatrix[\"PR(bus|Z1)\"]*MarginalProb[\"PR(Z1|D)\"]\n",
    "    resultmatrix[\"Pr(Bus,Z3|C_n)\"] = ConditionalProbMatrix[\"PR(bus|Z3)\"]*MarginalProb[\"PR(Z3|D)\"]\n",
    "    resultmatrix[\"Pr(Car,Z4|C_n)\"] = ConditionalProbMatrix[\"PR(car|Z4)\"]*MarginalProb[\"PR(Z4|D)\"]\n",
    "    resultmatrix[\"Pr(Bus,Z4|C_n)\"] = ConditionalProbMatrix[\"PR(bus|Z4)\"]*MarginalProb[\"PR(Z4|D)\"]\n",
    "    resultmatrix[\"loglikelihood\"] = (tempYset[\"y_C_Z1\"]*np.log(resultmatrix[\"Pr(Car,Z1|C_n)\"]) +\n",
    "                                     tempYset[\"y_B_Z1\"]*np.log(resultmatrix[\"Pr(Bus,Z1|C_n)\"]) +\n",
    "                                     tempYset[\"y_B_Z3\"]*np.log(resultmatrix[\"Pr(Bus,Z3|C_n)\"]) +\n",
    "                                     tempYset[\"y_C_Z4\"]*np.log(resultmatrix[\"Pr(Car,Z4|C_n)\"]) +\n",
    "                                     tempYset[\"y_B_Z4\"]*np.log(resultmatrix[\"Pr(Bus,Z4|C_n)\"]) \n",
    "                                     )\n",
    "    resultmatrix[\"Chosen\"] = dta[\"joint\"]\n",
    "    resultmatrix[\"Predicted\"] = \"\"\n",
    "    resultmatrix[\"Matched\"] =0\n",
    "    for n in xrange(len(tempYset)):\n",
    "        maxpr = 0.0\n",
    "        maxindex = \"\"\n",
    "        for i in [\"Car,Z1\",\"Bus,Z1\", \"Bus,Z3\",\"Car,Z4\", \"Bus,Z4\" ]:\n",
    "            if resultmatrix[\"Pr(\"+i+\"|C_n)\"][n]>=maxpr:\n",
    "                maxpr = resultmatrix[\"Pr(\"+i+\"|C_n)\"][n]\n",
    "                maxindex = i\n",
    "        resultmatrix[\"Predicted\"].set_value(n,maxindex)\n",
    "        M, Zone = tempYset[\"Mode\"][n],tempYset[\"Destination\"][n]\n",
    "        m, Zd = maxindex.split(\",\")\n",
    "        m = m[0]\n",
    "        if m == M and Zd==Zone:\n",
    "            resultmatrix[\"Matched\"].set_value(n,1)\n",
    "        else:\n",
    "            resultmatrix[\"Matched\"].set_value(n,0)\n",
    "    loglikelihoodvalue = sum(resultmatrix[\"loglikelihood\"])\n",
    "    countedR = float(sum(resultmatrix[\"Matched\"]))/len(dta)\n",
    "    print \"CountedR : \", countedR\n",
    "    print \"Loglikelihoodvalue : \", loglikelihoodvalue \n",
    "    return resultmatrix, loglikelihoodvalue"
   ]
  },
  {
   "cell_type": "code",
   "execution_count": 31,
   "metadata": {},
   "outputs": [
    {
     "name": "stdout",
     "output_type": "stream",
     "text": [
      "CountedR :  0.49\n",
      "Loglikelihoodvalue :  -110.340897082\n"
     ]
    }
   ],
   "source": [
    "resultmatrix = goodness_of_fit(dta,tempYset, ConditionalProbMatrix,MarginalProb)"
   ]
  },
  {
   "cell_type": "code",
   "execution_count": null,
   "metadata": {},
   "outputs": [],
   "source": []
  },
  {
   "cell_type": "markdown",
   "metadata": {},
   "source": [
    "### Comparison between Joint logit and Nested logit model"
   ]
  },
  {
   "cell_type": "markdown",
   "metadata": {},
   "source": [
    "The table 1 indicates the summary of goodness of fit of two models:1) Joint logit, 2) Nested logit model. Significant differences are not observed but Nested logit model,which has shared unobserved attributes, predicts the revealed behavior little more accurately. "
   ]
  },
  {
   "cell_type": "markdown",
   "metadata": {},
   "source": [
    "Table 1 summary of comparison of the goodness of fit"
   ]
  },
  {
   "cell_type": "markdown",
   "metadata": {},
   "source": [
    "| Model | Counted R2 | McFadden's R2 | McFadden's adjusted R2        \n",
    "| :- |-------------: | :-: | :-:\n",
    "|Joint| 0.49  | 0.311  | 0.280\n",
    "| Nested | 0.49 | 0.315  | 0.284"
   ]
  },
  {
   "cell_type": "code",
   "execution_count": null,
   "metadata": {
    "collapsed": true
   },
   "outputs": [],
   "source": []
  }
 ],
 "metadata": {
  "kernelspec": {
   "display_name": "Python [default]",
   "language": "python",
   "name": "python2"
  },
  "language_info": {
   "codemirror_mode": {
    "name": "ipython",
    "version": 2
   },
   "file_extension": ".py",
   "mimetype": "text/x-python",
   "name": "python",
   "nbconvert_exporter": "python",
   "pygments_lexer": "ipython2",
   "version": "2.7.14"
  }
 },
 "nbformat": 4,
 "nbformat_minor": 1
}
